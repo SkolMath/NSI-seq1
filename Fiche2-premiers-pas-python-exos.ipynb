{
 "cells": [
  {
   "cell_type": "markdown",
   "metadata": {},
   "source": [
    "# Exercice 1"
   ]
  },
  {
   "cell_type": "code",
   "execution_count": 1,
   "metadata": {},
   "outputs": [
    {
     "name": "stdout",
     "output_type": "stream",
     "text": [
      "Température en °C : 37\n",
      "La température en °F est de : 98.60000000000001\n"
     ]
    }
   ],
   "source": [
    "C=int(input(\"Température en °C : \"))\n",
    "F=C*1.8+32\n",
    "print (\"La température en °F est de : \"+str(F))"
   ]
  },
  {
   "cell_type": "markdown",
   "metadata": {},
   "source": [
    "# Exercice 2"
   ]
  },
  {
   "cell_type": "code",
   "execution_count": 2,
   "metadata": {},
   "outputs": [
    {
     "name": "stdout",
     "output_type": "stream",
     "text": [
      "Nombre d'heures : 20\n",
      "Le tarif A est de 90 euros et le tarif B est de 80 euros\n"
     ]
    }
   ],
   "source": [
    "heure=int(input(\"Nombre d'heures : \"))\n",
    "tarifA=50+2*heure\n",
    "tarifB=4*heure\n",
    "print (\"Le tarif A est de \" + str(tarifA) + \" euros et le tarif B est de \" + str(tarifB)+\" euros\")"
   ]
  },
  {
   "cell_type": "markdown",
   "metadata": {},
   "source": [
    "# Exercice 3"
   ]
  },
  {
   "cell_type": "code",
   "execution_count": 3,
   "metadata": {},
   "outputs": [
    {
     "name": "stdout",
     "output_type": "stream",
     "text": [
      "Nbre de galettes : 12\n",
      "Nbre de crepes :20\n",
      "Le prix est de :16.4euros\n"
     ]
    }
   ],
   "source": [
    "galette=int(input(\"Nbre de galettes : \"))\n",
    "crepe=int(input(\"Nbre de crepes :\"))\n",
    "prix=galette*0.45+crepe*0.55\n",
    "print (\"Le prix est de :\"+str(prix)+\"euros\")"
   ]
  },
  {
   "cell_type": "markdown",
   "metadata": {},
   "source": [
    "# Exercice 4"
   ]
  },
  {
   "cell_type": "code",
   "execution_count": 4,
   "metadata": {},
   "outputs": [
    {
     "name": "stdout",
     "output_type": "stream",
     "text": [
      "Nombre de chemises : 20\n",
      "Le prix est de 200 euros\n"
     ]
    }
   ],
   "source": [
    "chemise=int(input(\"Nombre de chemises : \"))\n",
    "if  chemise < 30 :\n",
    "  prix=10*chemise\n",
    "else:\n",
    "  prix=10*0.9*chemise\n",
    "print (\"Le prix est de \"+str(prix)+\" euros\")"
   ]
  },
  {
   "cell_type": "markdown",
   "metadata": {},
   "source": [
    "# Exercice 5"
   ]
  },
  {
   "cell_type": "code",
   "execution_count": 5,
   "metadata": {},
   "outputs": [
    {
     "name": "stdout",
     "output_type": "stream",
     "text": [
      "Nombre d'années : 20\n",
      "Le capital est de 2420 euros\n"
     ]
    }
   ],
   "source": [
    "annee=int(input(\"Nombre d'années : \"))\n",
    "capital=0\n",
    "for i in range(1,annee+1):\n",
    "  capital=capital+100+i*2\n",
    "print (\"Le capital est de \"+str(capital)+\" euros\")"
   ]
  },
  {
   "cell_type": "markdown",
   "metadata": {},
   "source": [
    "# Exercice 6"
   ]
  },
  {
   "cell_type": "code",
   "execution_count": 8,
   "metadata": {},
   "outputs": [
    {
     "name": "stdout",
     "output_type": "stream",
     "text": [
      "Nombre d'habitants Rouge : 10000\n",
      "Nombre d'habitants Bleu : 5000\n",
      "Le nombre d'année est de 77 ans\n"
     ]
    }
   ],
   "source": [
    "rouge=int(input(\"Nombre d'habitants Rouge : \"))\n",
    "bleu=int(input(\"Nombre d'habitants Bleu : \"))\n",
    "annee=0\n",
    "while bleu<rouge:\n",
    "  annee=annee+1\n",
    "  rouge=rouge+500\n",
    "  bleu=bleu*1.03\n",
    "print (\"Le nombre d'année est de \" + str(annee) + \" ans\")"
   ]
  },
  {
   "cell_type": "code",
   "execution_count": null,
   "metadata": {},
   "outputs": [],
   "source": []
  }
 ],
 "metadata": {
  "kernelspec": {
   "display_name": "Python 3",
   "language": "python",
   "name": "python3"
  },
  "language_info": {
   "codemirror_mode": {
    "name": "ipython",
    "version": 3
   },
   "file_extension": ".py",
   "mimetype": "text/x-python",
   "name": "python",
   "nbconvert_exporter": "python",
   "pygments_lexer": "ipython3",
   "version": "3.7.3"
  }
 },
 "nbformat": 4,
 "nbformat_minor": 2
}
