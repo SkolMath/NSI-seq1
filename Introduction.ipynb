{
 "cells": [
  {
   "cell_type": "markdown",
   "metadata": {
    "collapsed": true
   },
   "source": [
    "<h1>Introduction au traitement des images numériques avec la bibliothèque PIL</h1>"
   ]
  },
  {
   "cell_type": "markdown",
   "metadata": {},
   "source": [
    "La bibliothèque Python Imaging Library (PIL) ajoute des capacités de traitement d'image à l'interpréteur Python. Cette bibliothèque prend en charge de nombreux formats de fichiers, un puissant lot de fonctions de traitement d'image et de nouvelles capacités graphiques"
   ]
  },
  {
   "cell_type": "markdown",
   "metadata": {},
   "source": [
    "<h2> Ouvrir et visualiser une image </h2>"
   ]
  },
  {
   "cell_type": "markdown",
   "metadata": {},
   "source": [
    "<h3>Programme minimum</h3>"
   ]
  },
  {
   "cell_type": "code",
   "execution_count": 1,
   "metadata": {},
   "outputs": [],
   "source": [
    "from PIL import Image\n",
    "\n",
    "im = Image.open(\"logo.jpg\")\n",
    "im.show()"
   ]
  },
  {
   "cell_type": "markdown",
   "metadata": {},
   "source": [
    "Tester"
   ]
  },
  {
   "cell_type": "code",
   "execution_count": null,
   "metadata": {},
   "outputs": [],
   "source": []
  },
  {
   "cell_type": "markdown",
   "metadata": {},
   "source": [
    "<h2>Obtenir les informations de format et de taille d'une image </h2>"
   ]
  },
  {
   "cell_type": "code",
   "execution_count": null,
   "metadata": {
    "collapsed": true
   },
   "outputs": [],
   "source": [
    "from PIL import Image\n",
    "fichier = \"logo.jpg\"\n",
    "im = Image.open(fichier)\n",
    "im.show()\n",
    "width = im.size[0] # la largeur\n",
    "height = im.size[1] # la hauteur\n",
    "print(w)\n",
    "print(h)"
   ]
  },
  {
   "cell_type": "markdown",
   "metadata": {},
   "source": [
    "Qu'affiche le programme précédent? \n",
    "Vérifier en utilisant GIMP\n",
    "\n",
    "Modifier le programme pour qu'il affiche :\n",
    "largeur :  300  pixels\n",
    "hauteur :  192  pixels"
   ]
  },
  {
   "cell_type": "code",
   "execution_count": null,
   "metadata": {
    "collapsed": true
   },
   "outputs": [],
   "source": []
  },
  {
   "cell_type": "markdown",
   "metadata": {},
   "source": [
    "<h2>Création de vignette (thumbnail)</h2>"
   ]
  },
  {
   "cell_type": "code",
   "execution_count": null,
   "metadata": {
    "collapsed": true
   },
   "outputs": [],
   "source": [
    "from PIL import Image\n",
    "\n",
    "im = Image.open(\"paysage.jpg\")\n",
    "im.thumbnail([128,128], Image.ANTIALIAS)\n",
    "\n",
    "im.show()\n",
    "w,h = im.size\n",
    "print(w)\n",
    "print(h)"
   ]
  },
  {
   "cell_type": "markdown",
   "metadata": {},
   "source": [
    "<h2>Effectuer une rotation à une image</h2>"
   ]
  },
  {
   "cell_type": "code",
   "execution_count": 2,
   "metadata": {},
   "outputs": [],
   "source": [
    "from PIL import Image\n",
    "\n",
    "fichier = \"logo.jpg\"\n",
    "im = Image.open(fichier)\n",
    "im.show()\n",
    "\n",
    "out = im.rotate(45)\n",
    "out.show()\n",
    "out.save(\"image2.jpg\")"
   ]
  },
  {
   "cell_type": "markdown",
   "metadata": {},
   "source": [
    "Modifier le programme précédent afin de retourner complètement l'image"
   ]
  },
  {
   "cell_type": "code",
   "execution_count": null,
   "metadata": {
    "collapsed": true
   },
   "outputs": [],
   "source": []
  },
  {
   "cell_type": "markdown",
   "metadata": {},
   "source": [
    "<h2>Créer une image avec un fond d'une couleur donnée<h2>"
   ]
  },
  {
   "cell_type": "markdown",
   "metadata": {},
   "source": [
    "Il faut préciser \n",
    "\tla taille  (hauteur, largeur)\n",
    "\tet la couleur ,soit sous forme de nom « blue », soit en RVB."
   ]
  },
  {
   "cell_type": "code",
   "execution_count": null,
   "metadata": {
    "collapsed": true
   },
   "outputs": [],
   "source": [
    "from PIL import Image\n",
    "\n",
    "fichier = \"logo.jpg\"\n",
    "im = Image.open(fichier)\n",
    "im.show()\n",
    "\n",
    "w,h = im.size\n",
    "imS =Image.new(\"RGB\", (w,h), \"blue\") #creation d'une nouvelle image au format RGB, de dimensions (w,h) \n",
    "                                    # et de couleur bleue\n",
    "imS.show()"
   ]
  },
  {
   "cell_type": "markdown",
   "metadata": {},
   "source": [
    "Tester."
   ]
  },
  {
   "cell_type": "markdown",
   "metadata": {},
   "source": [
    "On peut facilement sauvegarder une image :"
   ]
  },
  {
   "cell_type": "code",
   "execution_count": 1,
   "metadata": {},
   "outputs": [],
   "source": [
    "from PIL import Image\n",
    "\n",
    "fichier = \"logo.jpg\"\n",
    "im = Image.open(fichier)\n",
    "\n",
    "w,h = im.size\n",
    "imS =Image.new(\"RGB\", (w,h), \"blue\") #creation d'une nouvelle image au format RGB, de dimensions (w,h) \n",
    "                                    # et de couleur bleue\n",
    "imS.save(\"logoBleu.jpg\")"
   ]
  },
  {
   "cell_type": "markdown",
   "metadata": {},
   "source": [
    "<h2>Les couleurs</h2>"
   ]
  },
  {
   "cell_type": "markdown",
   "metadata": {},
   "source": [
    "Une image est vue comme un tableau de points ( un point = un  pixel). Chaque pixel est décrit par sa couleur. \n",
    "On dit que l'on a une image matricielle (une matrice en maths est un tableau de nombres).\n",
    "Par exemple, pour une image en noir et blanc, \"00110100\" signifierait que le premier pixel est noir, le second aussi, le troisième est blanc etc.... \n",
    "\n",
    "Un pixel en noir et blanc peut être décrit par un seul bit (0 ou 1). Un pixel en niveau de gris est généralement décrit par un octet (256 niveaux de gris de 0 à 255). Plus ce nombre est petit, plus le gris est foncé (car on approche de 0).\n",
    "\n",
    "Un pixel en \"True color\" est codé sur trois octets : l'un donne le niveau de rouge (de 0 à 255), \n",
    "l'un le niveau de vert ( de 0 à 255) et le dernier le niveau de bleu (de 0 à 255). \n",
    "C'est le codage RVB (ou RGB en anglais). \n",
    "\n",
    "La couleur sera rouge si le niveau de vert et de bleu sont nuls, par exemple ( 240,0,0), le premier entier n'étant pas trop faible, sinon cela ressemblera plus à du noir ! \n",
    "\n",
    "Noir correspond à (0, 0 , 0) et les gris à (n,n,n) où n est un entier entre 1 et 254. Par exemple ( 120, 120, 120) est un gris moyen. \n",
    "\n",
    "Vous pouvez utiliser \"La boîte à couleur\" de GIMP pour visualiser les couleurs suivant leur code RGB."
   ]
  },
  {
   "cell_type": "markdown",
   "metadata": {},
   "source": [
    "<h3>Décomposer une image en couleur en ses 3 composantes rouge, vert, bleu</h3>\n"
   ]
  },
  {
   "cell_type": "code",
   "execution_count": null,
   "metadata": {
    "collapsed": true
   },
   "outputs": [],
   "source": [
    "from PIL import Image\n",
    "fichier = \"logo.jpg\"\n",
    "im = Image.open(fichier)\n",
    "im.show()\n",
    "\n",
    "r,v,b = im.split()\n",
    "r.show()\n",
    "v.show()\n",
    "b.show()"
   ]
  },
  {
   "cell_type": "markdown",
   "metadata": {},
   "source": [
    "\t\n",
    "Observer bien les différences.\n",
    "\n",
    "En fait on crée trois nouvelles images (r, v et b) dont les trois canaux ont la même valeur : celle du canaux rouge, vert ou bleu de l'image intiale.\n",
    "\n",
    "Remarque : si votre image comporte un canal alpha, il faut dans ce cas saisir :"
   ]
  },
  {
   "cell_type": "code",
   "execution_count": 4,
   "metadata": {},
   "outputs": [],
   "source": [
    "from PIL import Image\n",
    "fichier = \"logosfx.png\"\n",
    "im = Image.open(fichier)\n",
    "im.show()\n",
    "\n",
    "r,v,b,a = im.split()"
   ]
  },
  {
   "cell_type": "markdown",
   "metadata": {},
   "source": [
    "<h3>Acceder aux pixels</h3>\n"
   ]
  },
  {
   "cell_type": "markdown",
   "metadata": {},
   "source": [
    "r,v,b = im.getpixel(x,y) permet d'obtenir les composantes pour les coordonnées(x,y). \n",
    "im.putpixel((x,y), (Red,Green,Blue)) permet de fixer une couleur au pixel (x,y)\n",
    "\n"
   ]
  },
  {
   "cell_type": "code",
   "execution_count": 6,
   "metadata": {},
   "outputs": [],
   "source": [
    "from PIL import Image\n",
    "\n",
    "fichier = \"paysage.jpg\"\n",
    "im = Image.open(fichier)\n",
    "im.show()\n",
    "\n",
    "w,h = im.size\n",
    "imS = Image.new(\"RGB\", (w,h), \"blue\") #creation d'une nouvelle image\n",
    "\n",
    "for x in range(w):\n",
    "    for y in range(h):\n",
    "        rouge,vert,bleu = im.getpixel((x,y))\n",
    "       \n",
    "        Red = (rouge + 56) %255 #modification de la composante rouge\n",
    "        Green = (vert + 200) %255 #modification de la composante verte\n",
    "        Blue = (bleu + 10) %255 #modification de la composante bleue\n",
    "       \n",
    "        imS.putpixel((x,y), (Red,Green,Blue))  # ecriture de la couleur du pixel\n",
    "        \n",
    "imS.save(\"new.jpg\")\n",
    "imS.show()"
   ]
  },
  {
   "cell_type": "markdown",
   "metadata": {},
   "source": [
    "Effectuer des modification afin d'accentuer la composante rouge, puis bleue. Tester.\n",
    "Faire des essais sur d'autres images\n"
   ]
  },
  {
   "cell_type": "code",
   "execution_count": null,
   "metadata": {
    "collapsed": true
   },
   "outputs": [],
   "source": []
  },
  {
   "cell_type": "markdown",
   "metadata": {},
   "source": [
    "<h3>Niveau de gris </h3>"
   ]
  },
  {
   "cell_type": "markdown",
   "metadata": {},
   "source": [
    "Modifier le programme précédent afin d'obtenir une image en niveau de gris"
   ]
  },
  {
   "cell_type": "code",
   "execution_count": null,
   "metadata": {
    "collapsed": true
   },
   "outputs": [],
   "source": []
  },
  {
   "cell_type": "markdown",
   "metadata": {},
   "source": [
    "<h3>Binarisation</h3>"
   ]
  },
  {
   "cell_type": "markdown",
   "metadata": {},
   "source": [
    "Modifier le programme précédent afin d'obtenir une image en noir et blanc"
   ]
  },
  {
   "cell_type": "code",
   "execution_count": null,
   "metadata": {
    "collapsed": true
   },
   "outputs": [],
   "source": []
  },
  {
   "cell_type": "markdown",
   "metadata": {},
   "source": [
    "<h3>Négatif</h3>\n",
    "\n",
    "\n"
   ]
  },
  {
   "cell_type": "markdown",
   "metadata": {},
   "source": [
    "Modifier le programme précédent afin d'obtenir le négatif de l'image de départ."
   ]
  },
  {
   "cell_type": "code",
   "execution_count": null,
   "metadata": {
    "collapsed": true
   },
   "outputs": [],
   "source": []
  }
 ],
 "metadata": {
  "kernelspec": {
   "display_name": "Python 3",
   "language": "python",
   "name": "python3"
  },
  "language_info": {
   "codemirror_mode": {
    "name": "ipython",
    "version": 3
   },
   "file_extension": ".py",
   "mimetype": "text/x-python",
   "name": "python",
   "nbconvert_exporter": "python",
   "pygments_lexer": "ipython3",
   "version": "3.7.3"
  }
 },
 "nbformat": 4,
 "nbformat_minor": 1
}
