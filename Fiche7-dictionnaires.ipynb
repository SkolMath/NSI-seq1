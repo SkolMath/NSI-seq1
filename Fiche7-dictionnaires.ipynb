{
 "cells": [
  {
   "cell_type": "markdown",
   "metadata": {},
   "source": [
    "# PYTHON : LES DICTIONNAIRES"
   ]
  },
  {
   "cell_type": "code",
   "execution_count": 4,
   "metadata": {},
   "outputs": [
    {
     "name": "stdout",
     "output_type": "stream",
     "text": [
      "{'2105U': 'Bureau A201', '3257V': 'Bureau B214', '1857T': 'Bureau B325', '7485V': 'Bureau C204'}\n"
     ]
    }
   ],
   "source": [
    "parc_info = {\"2105U\":\"Bureau A201\" , \"3257V\":\"Bureau B214\" , \"1857T\":\"Bureau B325\" , \"7485V\":\"Bureau C204\"}\n",
    "print(parc_info)"
   ]
  },
  {
   "cell_type": "markdown",
   "metadata": {},
   "source": [
    "### Ajouter des entrées."
   ]
  },
  {
   "cell_type": "code",
   "execution_count": 5,
   "metadata": {},
   "outputs": [
    {
     "name": "stdout",
     "output_type": "stream",
     "text": [
      "{'2105U': 'Bureau A201', '3257V': 'Bureau B214', '1857T': 'Bureau B325', '7485V': 'Bureau C204', '3745S': 'Bureau B214'}\n"
     ]
    }
   ],
   "source": [
    "parc_info[\"3745S\"]=\"Bureau B214\" # ajout d'un autre PC dans le bureau B214\n",
    "print (parc_info)"
   ]
  },
  {
   "cell_type": "markdown",
   "metadata": {},
   "source": [
    "### Supprimer des entrées."
   ]
  },
  {
   "cell_type": "code",
   "execution_count": 7,
   "metadata": {},
   "outputs": [
    {
     "name": "stdout",
     "output_type": "stream",
     "text": [
      "{'2105U': 'Bureau A201', '1857T': 'Bureau B325', '7485V': 'Bureau C204', '3745S': 'Bureau B214'}\n"
     ]
    }
   ],
   "source": [
    "del (parc_info[\"3257V\"]) # suppression de l'ancien PC du bureau B214\n",
    "print (parc_info)"
   ]
  },
  {
   "cell_type": "markdown",
   "metadata": {},
   "source": [
    "### Récupérer une valeur connaissant la clé"
   ]
  },
  {
   "cell_type": "code",
   "execution_count": 9,
   "metadata": {},
   "outputs": [
    {
     "name": "stdout",
     "output_type": "stream",
     "text": [
      "Bureau A201\n",
      "Bureau A201\n"
     ]
    }
   ],
   "source": [
    "print (parc_info[\"2105U\"])\n",
    "print (parc_info.get(\"2105U\"))"
   ]
  },
  {
   "cell_type": "markdown",
   "metadata": {},
   "source": [
    "### Tester l'existence d'une clé"
   ]
  },
  {
   "cell_type": "code",
   "execution_count": 13,
   "metadata": {},
   "outputs": [],
   "source": [
    "#fonction permettant de vérifier si la machine est dans le parc\n",
    "\n",
    "def appartient_au_parc(numero_machine):\n",
    "    if numero_machine in parc_info :\n",
    "       print (\"La machine n°\",numero_machine,\"est dans le bureau\",parc_info[numero_machine])\n",
    "    else :\n",
    "       print (\"Pas de machine n°\",numero_machine,\"dans le parc informatique\")"
   ]
  },
  {
   "cell_type": "code",
   "execution_count": 14,
   "metadata": {},
   "outputs": [
    {
     "name": "stdout",
     "output_type": "stream",
     "text": [
      "La machine n° 3745S est dans le bureau Bureau B214\n"
     ]
    }
   ],
   "source": [
    "appartient_au_parc(\"3745S\")"
   ]
  },
  {
   "cell_type": "code",
   "execution_count": 15,
   "metadata": {},
   "outputs": [
    {
     "name": "stdout",
     "output_type": "stream",
     "text": [
      "Pas de machine n° 1000S dans le parc informatique\n"
     ]
    }
   ],
   "source": [
    "appartient_au_parc(\"1000S\")"
   ]
  },
  {
   "cell_type": "markdown",
   "metadata": {},
   "source": [
    "### Afficher toutes les clés"
   ]
  },
  {
   "cell_type": "code",
   "execution_count": 17,
   "metadata": {},
   "outputs": [
    {
     "name": "stdout",
     "output_type": "stream",
     "text": [
      "Affichage direct\n",
      "dict_keys(['2105U', '1857T', '7485V', '3745S'])\n"
     ]
    }
   ],
   "source": [
    "print (\"Affichage direct\")\n",
    "print (parc_info.keys())"
   ]
  },
  {
   "cell_type": "code",
   "execution_count": 18,
   "metadata": {},
   "outputs": [
    {
     "name": "stdout",
     "output_type": "stream",
     "text": [
      "\n",
      "Affichage via une boucle for\n",
      "2105U\n",
      "1857T\n",
      "7485V\n",
      "3745S\n"
     ]
    }
   ],
   "source": [
    "print (\"\\nAffichage via une boucle for\")\n",
    "for cle in parc_info.keys() :\n",
    "   print(cle)"
   ]
  },
  {
   "cell_type": "markdown",
   "metadata": {},
   "source": [
    "### Afficher toutes les valeurs"
   ]
  },
  {
   "cell_type": "code",
   "execution_count": 20,
   "metadata": {},
   "outputs": [
    {
     "name": "stdout",
     "output_type": "stream",
     "text": [
      "Bureau A201\n",
      "Bureau B325\n",
      "Bureau C204\n",
      "Bureau B214\n"
     ]
    }
   ],
   "source": [
    "for valeur in parc_info.values() :\n",
    "   print(valeur)"
   ]
  },
  {
   "cell_type": "markdown",
   "metadata": {},
   "source": [
    "### Afficher tous les couples clé/valeur"
   ]
  },
  {
   "cell_type": "code",
   "execution_count": 22,
   "metadata": {},
   "outputs": [
    {
     "name": "stdout",
     "output_type": "stream",
     "text": [
      "2105U  est dans  Bureau A201\n",
      "1857T  est dans  Bureau B325\n",
      "7485V  est dans  Bureau C204\n",
      "3745S  est dans  Bureau B214\n"
     ]
    }
   ],
   "source": [
    "for cle,valeur in parc_info.items() :\n",
    "   print(cle,\" est dans \",valeur) "
   ]
  },
  {
   "cell_type": "markdown",
   "metadata": {},
   "source": [
    "### Connaitre le nombre de couple clef/valeur "
   ]
  },
  {
   "cell_type": "code",
   "execution_count": 23,
   "metadata": {},
   "outputs": [
    {
     "name": "stdout",
     "output_type": "stream",
     "text": [
      "4\n"
     ]
    }
   ],
   "source": [
    "print(len(parc_info))"
   ]
  },
  {
   "cell_type": "code",
   "execution_count": null,
   "metadata": {},
   "outputs": [],
   "source": []
  }
 ],
 "metadata": {
  "kernelspec": {
   "display_name": "Python 3",
   "language": "python",
   "name": "python3"
  },
  "language_info": {
   "codemirror_mode": {
    "name": "ipython",
    "version": 3
   },
   "file_extension": ".py",
   "mimetype": "text/x-python",
   "name": "python",
   "nbconvert_exporter": "python",
   "pygments_lexer": "ipython3",
   "version": "3.7.3"
  }
 },
 "nbformat": 4,
 "nbformat_minor": 2
}
