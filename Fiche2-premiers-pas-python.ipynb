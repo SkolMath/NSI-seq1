{
 "cells": [
  {
   "cell_type": "markdown",
   "metadata": {},
   "source": [
    "# Structure alternative : « Si …….. Alors………..Sinon »"
   ]
  },
  {
   "cell_type": "code",
   "execution_count": 1,
   "metadata": {},
   "outputs": [
    {
     "name": "stdout",
     "output_type": "stream",
     "text": [
      "Saisir le nombre de développement ? 40\n",
      "le tarif pour 40 développements sera de 20.0 euros\n"
     ]
    }
   ],
   "source": [
    "dev=int(input(\"Saisir le nombre de développement ? \"))\n",
    "\n",
    "if dev<50:\n",
    "    tarif=dev*0.50\n",
    "else: \n",
    "    tarif=dev*0.40\n",
    "    \n",
    "print(\"le tarif pour \"+str(dev)+\" développements sera de \"+str(tarif)+\" euros\")\n"
   ]
  },
  {
   "cell_type": "markdown",
   "metadata": {},
   "source": [
    "# Structures itératives : Boucle avec l’instruction for "
   ]
  },
  {
   "cell_type": "code",
   "execution_count": 4,
   "metadata": {},
   "outputs": [
    {
     "name": "stdout",
     "output_type": "stream",
     "text": [
      "Saisir le prix de départ ? 200\n",
      "Saisir le nombre n d'année ? 8\n",
      "le prix au bout de 8 ans est de 263.36180739268053 euros\n"
     ]
    }
   ],
   "source": [
    "prix=int(input(\"Saisir le prix de départ ? \"))\n",
    "annee=int(input(\"Saisir le nombre n d'année ? \"))\n",
    "\n",
    "for i in range(0,annee):\n",
    "    prix=prix*1.02\n",
    "    \n",
    "print(\"le prix au bout de \"+str(annee)+\" ans est de \"+str(prix)+\" euros\")\n"
   ]
  },
  {
   "cell_type": "markdown",
   "metadata": {},
   "source": [
    "# Structures itératives : Boucle avec l’instruction while"
   ]
  },
  {
   "cell_type": "code",
   "execution_count": 5,
   "metadata": {},
   "outputs": [
    {
     "name": "stdout",
     "output_type": "stream",
     "text": [
      "Saisir le capital de départ ? 1000\n",
      "Au bout de 46 années, le capital sera >= à 6000 €\n"
     ]
    }
   ],
   "source": [
    "capital=int(input(\"Saisir le capital de départ ? \"))\n",
    "annee=0\n",
    "\n",
    "while capital<6000:\n",
    "    capital=capital*1.04\n",
    "    annee+=1\n",
    "    \n",
    "print(\"Au bout de \"+str(annee)+\" années, le capital sera >= à 6000 €\")\n"
   ]
  },
  {
   "cell_type": "code",
   "execution_count": null,
   "metadata": {},
   "outputs": [],
   "source": []
  }
 ],
 "metadata": {
  "kernelspec": {
   "display_name": "Python 3",
   "language": "python",
   "name": "python3"
  },
  "language_info": {
   "codemirror_mode": {
    "name": "ipython",
    "version": 3
   },
   "file_extension": ".py",
   "mimetype": "text/x-python",
   "name": "python",
   "nbconvert_exporter": "python",
   "pygments_lexer": "ipython3",
   "version": "3.7.3"
  }
 },
 "nbformat": 4,
 "nbformat_minor": 2
}
