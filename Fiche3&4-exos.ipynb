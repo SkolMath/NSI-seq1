{
 "cells": [
  {
   "cell_type": "markdown",
   "metadata": {},
   "source": [
    "# Exercice 1"
   ]
  },
  {
   "cell_type": "code",
   "execution_count": 4,
   "metadata": {},
   "outputs": [],
   "source": [
    "def prix_concert(nbre_place):\n",
    "    if nbre_place>3:\n",
    "        prix=nbre_place*20*0.9\n",
    "    else:\n",
    "        prix=nbre_place*20\n",
    "    return print(\"le prix à payer est de :\",prix,\"€\")"
   ]
  },
  {
   "cell_type": "code",
   "execution_count": 5,
   "metadata": {},
   "outputs": [
    {
     "name": "stdout",
     "output_type": "stream",
     "text": [
      "le prix à payer est de : 40 €\n",
      "le prix à payer est de : 90.0 €\n"
     ]
    }
   ],
   "source": [
    "# 1er Appel nbre_place = 2\n",
    "prix_concert(2)\n",
    "\n",
    "# 2eme Appel nbre_place = 5\n",
    "prix_concert(5)"
   ]
  },
  {
   "cell_type": "markdown",
   "metadata": {},
   "source": [
    "# Exercice 2"
   ]
  },
  {
   "cell_type": "code",
   "execution_count": 6,
   "metadata": {},
   "outputs": [],
   "source": [
    "def triangle_isocele(hauteur):\n",
    "    \n",
    "    nbre_etoiles=1 # etoile de la première ligne\n",
    "    nbre_espaces=hauteur-1\n",
    "    \n",
    "    for i in range(hauteur):\n",
    "        print(nbre_espaces*\" \"+nbre_etoiles*\"*\")\n",
    "        nbre_etoiles+=2\n",
    "        nbre_espaces-=1\n"
   ]
  },
  {
   "cell_type": "code",
   "execution_count": 9,
   "metadata": {},
   "outputs": [
    {
     "name": "stdout",
     "output_type": "stream",
     "text": [
      "        *\n",
      "       ***\n",
      "      *****\n",
      "     *******\n",
      "    *********\n",
      "   ***********\n",
      "  *************\n",
      " ***************\n",
      "*****************\n",
      "    *\n",
      "   ***\n",
      "  *****\n",
      " *******\n",
      "*********\n"
     ]
    }
   ],
   "source": [
    "# 1er Appel hauteur = 9\n",
    "triangle_isocele(9)\n",
    "\n",
    "# 2eme Appel hauteur = 5\n",
    "triangle_isocele(5)"
   ]
  },
  {
   "cell_type": "markdown",
   "metadata": {},
   "source": [
    "# Exercice 3"
   ]
  },
  {
   "cell_type": "code",
   "execution_count": 14,
   "metadata": {},
   "outputs": [],
   "source": [
    "def ving_premier_multiple(nombre):\n",
    "    print(\"les 20 premiers multiples de\",nombre,\"sont :\")\n",
    "    for i in range(1,21):\n",
    "        print(i*nombre)"
   ]
  },
  {
   "cell_type": "code",
   "execution_count": 15,
   "metadata": {},
   "outputs": [
    {
     "name": "stdout",
     "output_type": "stream",
     "text": [
      "les 20 premiers multiples de 2 sont :\n",
      "2\n",
      "4\n",
      "6\n",
      "8\n",
      "10\n",
      "12\n",
      "14\n",
      "16\n",
      "18\n",
      "20\n",
      "22\n",
      "24\n",
      "26\n",
      "28\n",
      "30\n",
      "32\n",
      "34\n",
      "36\n",
      "38\n",
      "40\n",
      "les 20 premiers multiples de 5 sont :\n",
      "5\n",
      "10\n",
      "15\n",
      "20\n",
      "25\n",
      "30\n",
      "35\n",
      "40\n",
      "45\n",
      "50\n",
      "55\n",
      "60\n",
      "65\n",
      "70\n",
      "75\n",
      "80\n",
      "85\n",
      "90\n",
      "95\n",
      "100\n"
     ]
    }
   ],
   "source": [
    "# 1er Appel nombre = 2\n",
    "ving_premier_multiple(2)\n",
    "\n",
    "# 2eme Appel nombre = 5\n",
    "ving_premier_multiple(5)"
   ]
  },
  {
   "cell_type": "markdown",
   "metadata": {},
   "source": [
    "# Exercice 4"
   ]
  },
  {
   "cell_type": "code",
   "execution_count": 17,
   "metadata": {},
   "outputs": [],
   "source": [
    "def affiche_paye(nbre_heure, salaire_horaire=10):\n",
    "    paye=nbre_heure*salaire_horaire  # calcul de la paye\n",
    "    if nbre_heure>35:\n",
    "        paye=paye+(nbre_heure-35)*salaire_horaire*0.5   # ajout de 50% si le nombre d'heures est supérieur\n",
    "    return print(\"La paye est de\",paye,\" €\")    "
   ]
  },
  {
   "cell_type": "code",
   "execution_count": 35,
   "metadata": {},
   "outputs": [
    {
     "name": "stdout",
     "output_type": "stream",
     "text": [
      "La paye est de 350  €\n",
      "La paye est de 510.0  €\n",
      "La paye est de 525  €\n"
     ]
    }
   ],
   "source": [
    "# 1er Appel nbre_heure = 35\n",
    "affiche_paye(35)\n",
    "\n",
    "# 2eme Appel nbre_heure = 40, salaire_horaire = 12\n",
    "affiche_paye(40,12)\n",
    "\n",
    "# 3eme Appel nbre_heure = 35, salaire_horaire = 15\n",
    "affiche_paye(35,15)"
   ]
  },
  {
   "cell_type": "markdown",
   "metadata": {},
   "source": [
    "# Exercice 5"
   ]
  },
  {
   "cell_type": "code",
   "execution_count": null,
   "metadata": {},
   "outputs": [],
   "source": [
    "def verify(name,password):\n",
    "    if name == \"Josh\" and password == \"Friday\":\n",
    "        print(\"Welcome Josh\")\n",
    "    elif name == \"Fred\" and password == \"Rock\":\n",
    "        print(\"Welcome Fred\")\n",
    "    else:\n",
    "        print(\"I don't know you.\")\n"
   ]
  },
  {
   "cell_type": "code",
   "execution_count": null,
   "metadata": {},
   "outputs": [],
   "source": [
    "name = input(\"What is your name? \")\n",
    "password = input(\"What is the password? \")\n",
    "verify(name,password)"
   ]
  },
  {
   "cell_type": "markdown",
   "metadata": {},
   "source": [
    "# Exercice 6"
   ]
  },
  {
   "cell_type": "code",
   "execution_count": 33,
   "metadata": {},
   "outputs": [],
   "source": [
    "def etat_eau(temp):\n",
    "    if temp<0:\n",
    "        message=\"SOLIDE\"\n",
    "    elif temp<=100:\n",
    "        message=\"LIQUIDE\"\n",
    "    else:\n",
    "        message=\"GAZEUX\"\n",
    "    return print(message)"
   ]
  },
  {
   "cell_type": "code",
   "execution_count": 34,
   "metadata": {},
   "outputs": [
    {
     "name": "stdout",
     "output_type": "stream",
     "text": [
      "SOLIDE\n",
      "LIQUIDE\n",
      "GAZEUX\n"
     ]
    }
   ],
   "source": [
    "# 1er Appel temp=-15\n",
    "etat_eau(-15)\n",
    "\n",
    "# 2eme Appel temp=20\n",
    "etat_eau(20)\n",
    "\n",
    "# 3eme Appel  temp=115\n",
    "etat_eau(115)"
   ]
  },
  {
   "cell_type": "markdown",
   "metadata": {},
   "source": [
    "# Exercice 7"
   ]
  },
  {
   "cell_type": "code",
   "execution_count": 29,
   "metadata": {},
   "outputs": [],
   "source": [
    "def test(lettre):\n",
    "    \n",
    "    condition=(lettre==\"a\" or lettre==\"e\" or lettre==\"i\" or lettre==\"o\" or lettre==\"u\" or lettre==\"y\")\n",
    "    \n",
    "    if condition:\n",
    "        return True\n",
    "    else:\n",
    "        return False\n",
    "    "
   ]
  },
  {
   "cell_type": "code",
   "execution_count": 30,
   "metadata": {},
   "outputs": [
    {
     "data": {
      "text/plain": [
       "True"
      ]
     },
     "execution_count": 30,
     "metadata": {},
     "output_type": "execute_result"
    }
   ],
   "source": [
    "# 1er Appel lettre=\"a\"\n",
    "test(\"a\")"
   ]
  },
  {
   "cell_type": "code",
   "execution_count": 31,
   "metadata": {},
   "outputs": [
    {
     "data": {
      "text/plain": [
       "False"
      ]
     },
     "execution_count": 31,
     "metadata": {},
     "output_type": "execute_result"
    }
   ],
   "source": [
    "# 2eme Appel lettre=\"E\"\n",
    "test(\"E\")"
   ]
  },
  {
   "cell_type": "code",
   "execution_count": 32,
   "metadata": {},
   "outputs": [
    {
     "data": {
      "text/plain": [
       "False"
      ]
     },
     "execution_count": 32,
     "metadata": {},
     "output_type": "execute_result"
    }
   ],
   "source": [
    "# 3eme Appel lettre=\"j\"\n",
    "test(\"j\")"
   ]
  },
  {
   "cell_type": "markdown",
   "metadata": {},
   "source": [
    "# Exercice 8"
   ]
  },
  {
   "cell_type": "code",
   "execution_count": 19,
   "metadata": {},
   "outputs": [],
   "source": [
    "def admissibilite(nom, note1, note2, note3):\n",
    "    \n",
    "    moyenne=(note1+note2+note3)/3\n",
    "    \n",
    "    condition1=(note1>=9 and note2>=9 and note3>=9)\n",
    "    condition2=(moyenne>=10 and note1>=8 and note2>=8 and note3>=8)\n",
    "\n",
    "    if condition1 or condition2:\n",
    "        message=nom+\" est admis\"\n",
    "    else:\n",
    "        message=nom+\" est refusé\"\n",
    "    return print(message)"
   ]
  },
  {
   "cell_type": "code",
   "execution_count": 22,
   "metadata": {},
   "outputs": [
    {
     "name": "stdout",
     "output_type": "stream",
     "text": [
      "Erwan est admis\n",
      "Erwan est refusé\n",
      "Erwan est admis\n"
     ]
    }
   ],
   "source": [
    "# 1er Appel nom=Erwan, note1=12, note2=8, note3=10\n",
    "admissibilite(\"Erwan\", 12, 8, 10)\n",
    "\n",
    "# 2eme Appel nom=Erwan, note1=14, note2=6, note3=10\n",
    "admissibilite(\"Erwan\", 14, 6, 10)\n",
    "\n",
    "# 3eme Appel nom=Erwan, note1=9, note2=9, note3=10\n",
    "admissibilite(\"Erwan\", 9, 9, 10)"
   ]
  },
  {
   "cell_type": "markdown",
   "metadata": {},
   "source": [
    "# Exercice 9"
   ]
  },
  {
   "cell_type": "code",
   "execution_count": 43,
   "metadata": {},
   "outputs": [
    {
     "name": "stdout",
     "output_type": "stream",
     "text": [
      "Devinez le nombre:53\n",
      "trop grand !\n",
      "Devinez le nombre:26\n",
      "trop grand !\n",
      "Devinez le nombre:15\n",
      "trop grand !\n",
      "Devinez le nombre:7\n",
      "trop grand !\n",
      "Devinez le nombre:2\n",
      "trop petit !\n",
      "le nombre était : 5\n"
     ]
    }
   ],
   "source": [
    "import random\n",
    "\n",
    "def nombre(nbre_utilisateur, nbre_secret):\n",
    "    if nbre_utilisateur < nbre_secret:\n",
    "        print(\"trop petit !\")\n",
    "        return 0\n",
    "    elif nbre_utilisateur > nbre_secret:\n",
    "        print(\"trop grand !\")\n",
    "        return 0\n",
    "    else :\n",
    "        print(\"Bravo vous avez trouvé\")\n",
    "        return 1\n",
    "\n",
    "nbre_secret = random.randint(1,100)\n",
    "nbre_essai=0\n",
    "trouve=0\n",
    "\n",
    "while nbre_essai<5 and trouve==0:\n",
    "    nbre_utilisateur = int(input(\"Devinez le nombre:\"))\n",
    "    trouve=nombre(nbre_utilisateur, nbre_secret)\n",
    "    nbre_essai=nbre_essai+1 \n",
    "\n",
    "print(\"le nombre était :\",nbre_secret)    "
   ]
  },
  {
   "cell_type": "code",
   "execution_count": null,
   "metadata": {},
   "outputs": [],
   "source": []
  }
 ],
 "metadata": {
  "kernelspec": {
   "display_name": "Python 3",
   "language": "python",
   "name": "python3"
  },
  "language_info": {
   "codemirror_mode": {
    "name": "ipython",
    "version": 3
   },
   "file_extension": ".py",
   "mimetype": "text/x-python",
   "name": "python",
   "nbconvert_exporter": "python",
   "pygments_lexer": "ipython3",
   "version": "3.7.3"
  }
 },
 "nbformat": 4,
 "nbformat_minor": 2
}
