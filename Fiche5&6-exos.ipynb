{
 "cells": [
  {
   "cell_type": "markdown",
   "metadata": {},
   "source": [
    "# PYTHON : LES LISTES (exos) "
   ]
  },
  {
   "cell_type": "markdown",
   "metadata": {},
   "source": [
    "### Exercice n°1"
   ]
  },
  {
   "cell_type": "code",
   "execution_count": 36,
   "metadata": {},
   "outputs": [],
   "source": [
    "def additionne_element(liste):\n",
    "    somme = 0\n",
    "    for i in liste :\n",
    "        somme = somme + i\n",
    "    return somme\n",
    "    "
   ]
  },
  {
   "cell_type": "code",
   "execution_count": 37,
   "metadata": {},
   "outputs": [
    {
     "name": "stdout",
     "output_type": "stream",
     "text": [
      "total =  250\n"
     ]
    }
   ],
   "source": [
    "liste1 = [ 10 , 20 , 30 , 10 , 20 , 60 , 100 ]  \n",
    "print(\"total = \",additionne_element(liste1))"
   ]
  },
  {
   "cell_type": "code",
   "execution_count": null,
   "metadata": {},
   "outputs": [],
   "source": [
    "def moyenne_element(liste):\n",
    "    return additionne_element(liste1)/len(liste1)\n"
   ]
  },
  {
   "cell_type": "code",
   "execution_count": 38,
   "metadata": {},
   "outputs": [
    {
     "name": "stdout",
     "output_type": "stream",
     "text": [
      "moyenne =  35.714285714285715\n"
     ]
    }
   ],
   "source": [
    "print(\"moyenne = \",moyenne_element(liste1))"
   ]
  },
  {
   "cell_type": "markdown",
   "metadata": {},
   "source": [
    "### Exercice n°2"
   ]
  },
  {
   "cell_type": "markdown",
   "metadata": {},
   "source": [
    "Fonction 1"
   ]
  },
  {
   "cell_type": "code",
   "execution_count": 32,
   "metadata": {},
   "outputs": [],
   "source": [
    "def supprime_doublons1(liste) :\n",
    "    ma_liste=[]\n",
    "    for i in range(0,len(liste)) :\n",
    "        if not (liste[i] in ma_liste) :\n",
    "            ma_liste.append(liste[i])\n",
    "    return ma_liste"
   ]
  },
  {
   "cell_type": "code",
   "execution_count": 33,
   "metadata": {},
   "outputs": [
    {
     "name": "stdout",
     "output_type": "stream",
     "text": [
      "[20, 41, 52, 78, 63]\n"
     ]
    }
   ],
   "source": [
    "liste1=[20,41,52,41,20,78,41,63,52,20]\n",
    "print (supprime_doublons1(liste1))"
   ]
  },
  {
   "cell_type": "markdown",
   "metadata": {},
   "source": [
    "Fonction 2"
   ]
  },
  {
   "cell_type": "code",
   "execution_count": 34,
   "metadata": {},
   "outputs": [],
   "source": [
    "def supprime_doublons2(liste) :\n",
    "    i = 0\n",
    "    while i < len(liste) :\n",
    "        j = i + 1\n",
    "        while j< len(liste):\n",
    "            if liste[j] == liste[i]:\n",
    "                liste.pop(j)\n",
    "            else :\n",
    "                j += 1\n",
    "        i += 1\n",
    "    return liste\n"
   ]
  },
  {
   "cell_type": "code",
   "execution_count": 35,
   "metadata": {},
   "outputs": [
    {
     "name": "stdout",
     "output_type": "stream",
     "text": [
      "[20, 41, 52, 78, 63]\n"
     ]
    }
   ],
   "source": [
    "liste1=[20,41,52,41,20,78,41,63,52,20]\n",
    "print (supprime_doublons2(liste1))"
   ]
  },
  {
   "cell_type": "markdown",
   "metadata": {},
   "source": [
    "### Exercice n°3"
   ]
  },
  {
   "cell_type": "code",
   "execution_count": 47,
   "metadata": {},
   "outputs": [],
   "source": [
    "def multiplie_par_deux(liste):\n",
    "    liste_travail=[]\n",
    "    for item in liste:\n",
    "        item=item*2\n",
    "        liste_travail.append(item)\n",
    "    return liste_travail\n"
   ]
  },
  {
   "cell_type": "code",
   "execution_count": 51,
   "metadata": {},
   "outputs": [
    {
     "name": "stdout",
     "output_type": "stream",
     "text": [
      "[20, 40, 60, 20, 40, 120, 200]\n"
     ]
    }
   ],
   "source": [
    "liste1 = [ 10 , 20 , 30 , 10 , 20 , 60 , 100 ]\n",
    "print(multiplie_par_deux(liste1))"
   ]
  },
  {
   "cell_type": "code",
   "execution_count": 53,
   "metadata": {},
   "outputs": [
    {
     "name": "stdout",
     "output_type": "stream",
     "text": [
      "[20, 40, 60, 20, 40, 120, 200]\n"
     ]
    }
   ],
   "source": [
    "liste2 = [ item*2 for item in liste1]\n",
    "print(liste2)"
   ]
  },
  {
   "cell_type": "markdown",
   "metadata": {},
   "source": [
    "### Exercice n°4"
   ]
  },
  {
   "cell_type": "code",
   "execution_count": 59,
   "metadata": {},
   "outputs": [],
   "source": [
    "def augmenter_taille(tuple):\n",
    "    longueur=tuple[0]*1.1\n",
    "    largeur=tuple[1]*0.85\n",
    "    return longueur, largeur"
   ]
  },
  {
   "cell_type": "code",
   "execution_count": 60,
   "metadata": {},
   "outputs": [
    {
     "data": {
      "text/plain": [
       "(44.0, 17.0)"
      ]
     },
     "execution_count": 60,
     "metadata": {},
     "output_type": "execute_result"
    }
   ],
   "source": [
    "tuple1 = (40 , 20)\n",
    "augmenter_taille(tuple1)"
   ]
  },
  {
   "cell_type": "markdown",
   "metadata": {},
   "source": [
    "### Exercice n°5"
   ]
  },
  {
   "cell_type": "code",
   "execution_count": 61,
   "metadata": {},
   "outputs": [
    {
     "name": "stdout",
     "output_type": "stream",
     "text": [
      "[7, 5, 8, 10]\n"
     ]
    }
   ],
   "source": [
    "ma_liste_de_mots = [ \"Cosinus\", \"Sinus\", \"Tangente\", \"Cotangente\" ]\n",
    "print([ len(mot) for mot in ma_liste_de_mots])\n"
   ]
  },
  {
   "cell_type": "markdown",
   "metadata": {},
   "source": [
    "### Excercie n°6"
   ]
  },
  {
   "cell_type": "code",
   "execution_count": 62,
   "metadata": {},
   "outputs": [
    {
     "name": "stdout",
     "output_type": "stream",
     "text": [
      "0 T\n",
      "1 e\n",
      "2 x\n",
      "3 t\n",
      "4 e\n"
     ]
    }
   ],
   "source": [
    "liste = [ \"T\", \"e\", \"x\", \"t\", \"e\" ]\n",
    "for i, c in enumerate(liste):\n",
    "    print(i,c)\n"
   ]
  }
 ],
 "metadata": {
  "kernelspec": {
   "display_name": "Python 3",
   "language": "python",
   "name": "python3"
  },
  "language_info": {
   "codemirror_mode": {
    "name": "ipython",
    "version": 3
   },
   "file_extension": ".py",
   "mimetype": "text/x-python",
   "name": "python",
   "nbconvert_exporter": "python",
   "pygments_lexer": "ipython3",
   "version": "3.7.3"
  }
 },
 "nbformat": 4,
 "nbformat_minor": 2
}
