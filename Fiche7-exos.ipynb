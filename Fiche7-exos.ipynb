{
 "cells": [
  {
   "cell_type": "markdown",
   "metadata": {},
   "source": [
    "# PYTHON : LES DICTIONNAIRES"
   ]
  },
  {
   "cell_type": "markdown",
   "metadata": {},
   "source": [
    "### Exercice 1"
   ]
  },
  {
   "cell_type": "code",
   "execution_count": 2,
   "metadata": {},
   "outputs": [],
   "source": [
    "langue_fr_bzhg={\"bonjour\":\"demat\",\"au revoir\":\"kenavo\",\"bon\":\"mat\",\"bonne nuit\":\"noz vat\",\"informatique\":\"stlenneg\"}"
   ]
  },
  {
   "cell_type": "code",
   "execution_count": 5,
   "metadata": {},
   "outputs": [
    {
     "name": "stdout",
     "output_type": "stream",
     "text": [
      "au revoir  ->  kenavo\n",
      "bon  ->  mat\n",
      "bonjour  ->  demat\n",
      "bonne nuit  ->  noz vat\n",
      "informatique  ->  stlenneg\n"
     ]
    }
   ],
   "source": [
    "liste_cle=[]\n",
    "\n",
    "for cle in langue_fr_bzhg.keys():\n",
    "    liste_cle.append(cle)\n",
    "\n",
    "liste_cle.sort()\n",
    "\n",
    "for cle in liste_cle :\n",
    "   print(cle,\" -> \",langue_fr_bzhg[cle])"
   ]
  },
  {
   "cell_type": "markdown",
   "metadata": {},
   "source": [
    "### Exercice 2"
   ]
  },
  {
   "cell_type": "code",
   "execution_count": 61,
   "metadata": {},
   "outputs": [],
   "source": [
    "dico_symbole_bzh ={ \"Ajonc\":\"Plante qui fleurit sur toutes les landes de la Bretagne\",\n",
    "                   \"Hermine\":\"Petit mammifère carnivore qui apparait sur les drapeaux de la Bretagne depuis 1316\",\n",
    "                   \"Devise\":\"Plutôt la mort que la souillure\",\n",
    "                   \"Hymne\":\"Bro Gozh Ma Zadoù qui signifie Le vieux Pays de mes Pères\",\n",
    "                   \"Triskell\":\"Symbole celtique à trois branches qui représentent l'Eau, la Terre et le Feu\",\n",
    "                   \"Gwenn-ha-du\":\"Nom du drapeau breton\",\n",
    "                   \"BZH\":\"Abréviation de Breizh, « Bretagne » en langue bretonne et l’extension internet .bzh\"}\n"
   ]
  },
  {
   "cell_type": "code",
   "execution_count": 69,
   "metadata": {},
   "outputs": [
    {
     "name": "stdout",
     "output_type": "stream",
     "text": [
      "les symboles de la Bretagne\n",
      "-------------------------------\n",
      "BZH : Abréviation de Breizh, « Bretagne » en langue bretonne et l’extension internet .bzh\n",
      "Hermine : Petit mammifère carnivore qui apparait sur les drapeaux de la Bretagne depuis 1316\n",
      "Triskell : Symbole celtique à trois branches qui représentent l'Eau, la Terre et le Feu\n",
      "Hymne : Bro Gozh Ma Zadoù qui signifie Le vieux Pays de mes Pères\n",
      "Ajonc : Plante qui fleurit sur toutes les landes de la Bretagne\n",
      "Devise : Plutôt la mort que la souillure\n",
      "Gwenn-ha-du : Nom du drapeau breton\n"
     ]
    }
   ],
   "source": [
    "print(\"les symboles de la Bretagne\\n-------------------------------\")\n",
    "\n",
    "liste_long_val=[]\n",
    "\n",
    "for cle, valeur in dico_symbole_bzh.items():\n",
    "    liste_long_val.append([len(valeur),cle])\n",
    "\n",
    "liste_long_val.sort(reverse = True)\n",
    "\n",
    "for i in range(len(liste_long_val)):\n",
    "    print(liste_long_val[i][1],\":\",dico_symbole_bzh[liste_long_val[i][1]])\n",
    "    "
   ]
  },
  {
   "cell_type": "code",
   "execution_count": 70,
   "metadata": {},
   "outputs": [
    {
     "name": "stdout",
     "output_type": "stream",
     "text": [
      "les symboles de la Bretagne\n",
      "-------------------------------\n",
      "BZH : Abréviation de Breizh, « Bretagne » en langue bretonne et l’extension internet .bzh\n",
      "Hermine : Petit mammifère carnivore qui apparait sur les drapeaux de la Bretagne depuis 1316\n",
      "Triskell : Symbole celtique à trois branches qui représentent l'Eau, la Terre et le Feu\n",
      "Hymne : Bro Gozh Ma Zadoù qui signifie Le vieux Pays de mes Pères\n",
      "Ajonc : Plante qui fleurit sur toutes les landes de la Bretagne\n",
      "Devise : Plutôt la mort que la souillure\n",
      "Gwenn-ha-du : Nom du drapeau breton\n"
     ]
    }
   ],
   "source": [
    "\"\"\"\n",
    "Autre possibilité :\n",
    "Dans le cas où la liste constituée est constitué de [cle, len(valeur)]\n",
    "il faut passer par une fonction pour trier avec 2ème colonne\n",
    "\n",
    "\"\"\"\n",
    "def sort_second(val): \n",
    "    return val[1] \n",
    "\n",
    "print(\"les symboles de la Bretagne\\n-------------------------------\")\n",
    "\n",
    "liste_long_val=[]\n",
    "\n",
    "for cle, valeur in dico_symbole_bzh.items():\n",
    "    liste_long_val.append([cle,len(valeur)])\n",
    "\n",
    "liste_long_val.sort(key=sort_second, reverse = True)\n",
    "\n",
    "for i in range(len(liste_long_val)):\n",
    "    print(liste_long_val[i][0],\":\",dico_symbole_bzh[liste_long_val[i][0]])\n",
    "    "
   ]
  },
  {
   "cell_type": "markdown",
   "metadata": {},
   "source": [
    "### Exercice 3"
   ]
  },
  {
   "cell_type": "code",
   "execution_count": 43,
   "metadata": {},
   "outputs": [],
   "source": [
    "# 1 \n",
    "\n",
    "immat_vendeur={\"AB 456 TY\":\"Erwan\",\"ZZ 852 JJ\":\"Gwen\",\"DD 563 HH\":\"Yann\"}"
   ]
  },
  {
   "cell_type": "code",
   "execution_count": 16,
   "metadata": {},
   "outputs": [],
   "source": [
    "# 2 \n",
    "\n",
    "def consulter(plaque):\n",
    "    if plaque in immat_vendeur:\n",
    "        print (\"le vendeur est :\",immat_vendeur[plaque])\n",
    "    else:\n",
    "        print (\"pas de véhicule avec la plaque demandée :\",plaque)\n"
   ]
  },
  {
   "cell_type": "code",
   "execution_count": 17,
   "metadata": {},
   "outputs": [
    {
     "name": "stdout",
     "output_type": "stream",
     "text": [
      "pas de véhicule avec la plaque demandée : AB 457 TY\n"
     ]
    }
   ],
   "source": [
    "consulter(\"AB 457 TY\")"
   ]
  },
  {
   "cell_type": "code",
   "execution_count": 18,
   "metadata": {},
   "outputs": [
    {
     "name": "stdout",
     "output_type": "stream",
     "text": [
      "le vendeur est : Erwan\n"
     ]
    }
   ],
   "source": [
    "consulter(\"AB 456 TY\")"
   ]
  },
  {
   "cell_type": "code",
   "execution_count": 19,
   "metadata": {},
   "outputs": [],
   "source": [
    "# 3 \n",
    "\n",
    "def ajouter(liste):\n",
    "    for i in range(len(liste)):\n",
    "        immat_vendeur[liste[i][0]]=liste[i][1]\n"
   ]
  },
  {
   "cell_type": "code",
   "execution_count": 20,
   "metadata": {},
   "outputs": [
    {
     "name": "stdout",
     "output_type": "stream",
     "text": [
      "{'AB 456 TY': 'Erwan', 'ZZ 852 JJ': 'Gwen', 'DD 563 HH': 'Yann', 'FF 589 JK': 'Nolwen', 'FL 001 KL': 'Nolwen', 'HJ 858 PK': 'Elouan'}\n"
     ]
    }
   ],
   "source": [
    "liste1 = [ (\"FF 589 JK\",\"Nolwen\") ,(\"FL 001 KL\",\"Nolwen\"), (\"HJ 858 PK\",\"Elouan\")]\n",
    "ajouter(liste1)\n",
    "print(immat_vendeur)"
   ]
  },
  {
   "cell_type": "code",
   "execution_count": 21,
   "metadata": {},
   "outputs": [],
   "source": [
    "# 4 \n",
    "\n",
    "def supprimer_vehicule(plaque):\n",
    "    if plaque in immat_vendeur:\n",
    "        del(immat_vendeur[plaque])\n",
    "        print (\"le véhicule a été supprimé\")\n",
    "    else:\n",
    "        print (\"pas de véhicule avec la plaque demandée :\",plaque)\n",
    "    \n",
    "    "
   ]
  },
  {
   "cell_type": "code",
   "execution_count": 22,
   "metadata": {},
   "outputs": [
    {
     "name": "stdout",
     "output_type": "stream",
     "text": [
      "le véhicule a été supprimé\n"
     ]
    }
   ],
   "source": [
    "supprimer_vehicule('FF 589 JK')"
   ]
  },
  {
   "cell_type": "code",
   "execution_count": 23,
   "metadata": {},
   "outputs": [
    {
     "name": "stdout",
     "output_type": "stream",
     "text": [
      "{'AB 456 TY': 'Erwan', 'ZZ 852 JJ': 'Gwen', 'DD 563 HH': 'Yann', 'FL 001 KL': 'Nolwen', 'HJ 858 PK': 'Elouan'}\n"
     ]
    }
   ],
   "source": [
    "print(immat_vendeur)"
   ]
  },
  {
   "cell_type": "code",
   "execution_count": 24,
   "metadata": {},
   "outputs": [],
   "source": [
    "# 5 \n",
    "\n",
    "def affiche():\n",
    "    for cle,valeur in immat_vendeur.items() :\n",
    "       print(\"Le véhicule \",cle,\" est conduit par \",valeur) "
   ]
  },
  {
   "cell_type": "code",
   "execution_count": 25,
   "metadata": {},
   "outputs": [
    {
     "name": "stdout",
     "output_type": "stream",
     "text": [
      "Le véhicule  AB 456 TY  est conduit par  Erwan\n",
      "Le véhicule  ZZ 852 JJ  est conduit par  Gwen\n",
      "Le véhicule  DD 563 HH  est conduit par  Yann\n",
      "Le véhicule  FL 001 KL  est conduit par  Nolwen\n",
      "Le véhicule  HJ 858 PK  est conduit par  Elouan\n"
     ]
    }
   ],
   "source": [
    "affiche()"
   ]
  },
  {
   "cell_type": "code",
   "execution_count": null,
   "metadata": {},
   "outputs": [],
   "source": []
  }
 ],
 "metadata": {
  "kernelspec": {
   "display_name": "Python 3",
   "language": "python",
   "name": "python3"
  },
  "language_info": {
   "codemirror_mode": {
    "name": "ipython",
    "version": 3
   },
   "file_extension": ".py",
   "mimetype": "text/x-python",
   "name": "python",
   "nbconvert_exporter": "python",
   "pygments_lexer": "ipython3",
   "version": "3.7.3"
  }
 },
 "nbformat": 4,
 "nbformat_minor": 2
}
