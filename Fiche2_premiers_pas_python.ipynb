{
  "nbformat": 4,
  "nbformat_minor": 0,
  "metadata": {
    "kernelspec": {
      "display_name": "Python 3",
      "language": "python",
      "name": "python3"
    },
    "language_info": {
      "codemirror_mode": {
        "name": "ipython",
        "version": 3
      },
      "file_extension": ".py",
      "mimetype": "text/x-python",
      "name": "python",
      "nbconvert_exporter": "python",
      "pygments_lexer": "ipython3",
      "version": "3.7.3"
    },
    "colab": {
      "name": "Fiche2-premiers-pas-python.ipynb",
      "version": "0.3.2",
      "provenance": [],
      "include_colab_link": true
    }
  },
  "cells": [
    {
      "cell_type": "markdown",
      "metadata": {
        "id": "view-in-github",
        "colab_type": "text"
      },
      "source": [
        "<a href=\"https://colab.research.google.com/github/SkolMath/NSI/blob/master/Fiche2_premiers_pas_python.ipynb\" target=\"_parent\"><img src=\"https://colab.research.google.com/assets/colab-badge.svg\" alt=\"Open In Colab\"/></a>"
      ]
    },
    {
      "cell_type": "markdown",
      "metadata": {
        "id": "IKHrOI_VZI5L",
        "colab_type": "text"
      },
      "source": [
        "# Structure alternative : « Si …….. Alors………..Sinon »"
      ]
    },
    {
      "cell_type": "code",
      "metadata": {
        "id": "VdyuR-tLZI5n",
        "colab_type": "code",
        "outputId": "efcd829b-9e1c-4b61-9776-ed15868146ab",
        "colab": {
          "base_uri": "https://localhost:8080/",
          "height": 54
        }
      },
      "source": [
        "dev=int(input(\"Saisir le nombre de développement ? \"))\n",
        "\n",
        "if dev<50:\n",
        "    tarif=dev*0.50\n",
        "else: \n",
        "    tarif=dev*0.40\n",
        "    \n",
        "print(\"le tarif pour \"+str(dev)+\" développements sera de \"+str(tarif)+\" euros\")\n"
      ],
      "execution_count": 0,
      "outputs": [
        {
          "output_type": "stream",
          "text": [
            "Saisir le nombre de développement ? 20\n",
            "le tarif pour 20 développements sera de 10.0 euros\n"
          ],
          "name": "stdout"
        }
      ]
    },
    {
      "cell_type": "markdown",
      "metadata": {
        "id": "GPqdd4_-ZI6H",
        "colab_type": "text"
      },
      "source": [
        "# Structures itératives : Boucle avec l’instruction for "
      ]
    },
    {
      "cell_type": "code",
      "metadata": {
        "id": "thUAOkPSZI6L",
        "colab_type": "code",
        "outputId": "1bf1c766-fb28-4e34-a5bf-f4b8fd088c85",
        "colab": {
          "base_uri": "https://localhost:8080/",
          "height": 73
        }
      },
      "source": [
        "prix=int(input(\"Saisir le prix de départ ? \"))\n",
        "annee=int(input(\"Saisir le nombre n d'année ? \"))\n",
        "\n",
        "for i in range(0,annee):\n",
        "    prix=prix*1.035\n",
        "    \n",
        "print(\"le prix au bout de \"+str(annee)+\" ans est de \"+str(prix)+\" euros\")\n"
      ],
      "execution_count": 0,
      "outputs": [
        {
          "output_type": "stream",
          "text": [
            "Saisir le prix de départ ? 100\n",
            "Saisir le nombre n d'année ? 9\n",
            "le prix au bout de 9 ans est de 136.28973532571217 euros\n"
          ],
          "name": "stdout"
        }
      ]
    },
    {
      "cell_type": "markdown",
      "metadata": {
        "id": "_0Z_UV2xZI6c",
        "colab_type": "text"
      },
      "source": [
        "# Structures itératives : Boucle avec l’instruction while"
      ]
    },
    {
      "cell_type": "code",
      "metadata": {
        "id": "KH0E0ZY6ZI6h",
        "colab_type": "code",
        "outputId": "cf035fd5-9190-4f2f-bd30-4f8195dcdfef",
        "colab": {
          "base_uri": "https://localhost:8080/",
          "height": 54
        }
      },
      "source": [
        "capital=int(input(\"Saisir le capital de départ ? \"))\n",
        "annee=0\n",
        "\n",
        "while capital<6000:\n",
        "    capital=capital*1.04\n",
        "    annee+=1\n",
        "    \n",
        "print(\"Au bout de \"+str(annee)+\" années, le capital sera >= à 6000 €\")\n"
      ],
      "execution_count": 0,
      "outputs": [
        {
          "output_type": "stream",
          "text": [
            "Saisir le capital de départ ? 56\n",
            "Au bout de 120 années, le capital sera >= à 6000 €\n"
          ],
          "name": "stdout"
        }
      ]
    },
    {
      "cell_type": "code",
      "metadata": {
        "id": "GAQL7cOVZI6w",
        "colab_type": "code",
        "colab": {}
      },
      "source": [
        ""
      ],
      "execution_count": 0,
      "outputs": []
    }
  ]
}