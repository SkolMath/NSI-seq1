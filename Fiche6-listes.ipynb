{
 "cells": [
  {
   "cell_type": "markdown",
   "metadata": {},
   "source": [
    "# PYTHON : LES LISTES (suite) "
   ]
  },
  {
   "cell_type": "markdown",
   "metadata": {},
   "source": [
    "## -------------------------------------------------------------------------------------------------------------------------------\n",
    "## Compréhension de liste\n",
    "## -------------------------------------------------------------------------------------------------------------------------------"
   ]
  },
  {
   "cell_type": "markdown",
   "metadata": {},
   "source": [
    "### Filtrer une liste"
   ]
  },
  {
   "cell_type": "code",
   "execution_count": 7,
   "metadata": {},
   "outputs": [],
   "source": [
    "#Exemple de liste\n",
    "a = [1,4,2,7,1,9,0,3,4,6,6,6,8,3]"
   ]
  },
  {
   "cell_type": "markdown",
   "metadata": {},
   "source": [
    "Nous ne voulons conserver que les éléments de la liste dont la valeur est supérieure à 5"
   ]
  },
  {
   "cell_type": "code",
   "execution_count": 9,
   "metadata": {},
   "outputs": [
    {
     "data": {
      "text/plain": [
       "[7, 9, 6, 6, 6, 8, 7, 9, 6, 6, 6, 8]"
      ]
     },
     "execution_count": 9,
     "metadata": {},
     "output_type": "execute_result"
    }
   ],
   "source": [
    "for x in a:\n",
    "    if x > 5:\n",
    "        b.append(x)\n",
    "b"
   ]
  },
  {
   "cell_type": "markdown",
   "metadata": {},
   "source": [
    "Il est possible de faire exactement ce que fait le bloc de code précédent en une seule ligne"
   ]
  },
  {
   "cell_type": "code",
   "execution_count": 10,
   "metadata": {},
   "outputs": [
    {
     "data": {
      "text/plain": [
       "[7, 9, 6, 6, 6, 8]"
      ]
     },
     "execution_count": 10,
     "metadata": {},
     "output_type": "execute_result"
    }
   ],
   "source": [
    "b = [ x for x in a if x > 5]\n",
    "        \n",
    "b"
   ]
  },
  {
   "cell_type": "markdown",
   "metadata": {},
   "source": [
    "### Exécuter une fonction sur chaque item d'une liste"
   ]
  },
  {
   "cell_type": "markdown",
   "metadata": {},
   "source": [
    "Exemple d'une conversion de string en integer de plusieurs items: "
   ]
  },
  {
   "cell_type": "code",
   "execution_count": 12,
   "metadata": {},
   "outputs": [
    {
     "name": "stdout",
     "output_type": "stream",
     "text": [
      "[5, 10, 15]\n"
     ]
    }
   ],
   "source": [
    "liste = [\"5\", \"10\", \"15\"]\n",
    "liste = [int(x) for x in liste]\n",
    "print(liste)"
   ]
  },
  {
   "cell_type": "markdown",
   "metadata": {},
   "source": [
    "## -------------------------------------------------------------------------------------------------------------------------------\n",
    "## Autres méthodes\n",
    "## -------------------------------------------------------------------------------------------------------------------------------"
   ]
  },
  {
   "cell_type": "markdown",
   "metadata": {},
   "source": [
    "### Insérer un élément dans une liste avec la fonction insert"
   ]
  },
  {
   "cell_type": "code",
   "execution_count": 15,
   "metadata": {},
   "outputs": [
    {
     "data": {
      "text/plain": [
       "['Lundi', 'Mardi', 'Mercredi', 'Jeudi', 'Vendredi', 'Samedi', 'Dimanche']"
      ]
     },
     "execution_count": 15,
     "metadata": {},
     "output_type": "execute_result"
    }
   ],
   "source": [
    "semaine = [\"Lundi\", \"Mardi\", \"Jeudi\", \"Vendredi\", \"Samedi\", \"Dimanche\"]\n",
    "semaine.insert(2,\"Mercredi\") # d'abord l'index puis l'élément à insérer\n",
    "semaine\n"
   ]
  },
  {
   "cell_type": "markdown",
   "metadata": {},
   "source": [
    "###  Étendre une liste avec la fonction extend"
   ]
  },
  {
   "cell_type": "code",
   "execution_count": 16,
   "metadata": {},
   "outputs": [
    {
     "data": {
      "text/plain": [
       "['Lundi', 'Mardi', 'Mercredi', 'Jeudi', 'Vendredi', 'Samedi', 'Dimanche']"
      ]
     },
     "execution_count": 16,
     "metadata": {},
     "output_type": "execute_result"
    }
   ],
   "source": [
    "semaine = [\"Lundi\", \"Mardi\", \"Mercredi\", \"Jeudi\", \"Vendredi\"]\n",
    "semaine.extend([\"Samedi\", \"Dimanche\"])\n",
    "semaine\n"
   ]
  },
  {
   "cell_type": "markdown",
   "metadata": {},
   "source": [
    "### Supprimer et récupérer le dernier élément avec la fonction pop"
   ]
  },
  {
   "cell_type": "code",
   "execution_count": 19,
   "metadata": {},
   "outputs": [
    {
     "name": "stdout",
     "output_type": "stream",
     "text": [
      "semaine : ['Lundi', 'Mardi', 'Mercredi', 'Jeudi', 'Vendredi', 'Samedi']\n",
      "dernier jour : Dimanche\n"
     ]
    }
   ],
   "source": [
    "semaine = [\"Lundi\", \"Mardi\", \"Mercredi\", \"Jeudi\", \"Vendredi\", \"Samedi\", \"Dimanche\"]\n",
    "dernier_jour = semaine.pop() # on récupère le dernier élément de la liste semaine\n",
    "print(\"semaine :\",semaine)\n",
    "print(\"dernier jour :\",dernier_jour)\n"
   ]
  },
  {
   "cell_type": "markdown",
   "metadata": {},
   "source": [
    "### Trier une liste avec la fonction sort"
   ]
  },
  {
   "cell_type": "code",
   "execution_count": 20,
   "metadata": {},
   "outputs": [
    {
     "name": "stdout",
     "output_type": "stream",
     "text": [
      "['Dimanche', 'Jeudi', 'Lundi', 'Mardi', 'Mercredi', 'Samedi', 'Vendredi']\n",
      "[7, 11, 15, 16, 17, 19]\n"
     ]
    }
   ],
   "source": [
    "semaine = [\"Lundi\", \"Mardi\", \"Mercredi\", \"Jeudi\", \"Vendredi\", \"Samedi\", \"Dimanche\"]\n",
    "semaine.sort()\n",
    "print(semaine)\n",
    "notes = [11, 15, 16, 7, 19, 17]\n",
    "notes.sort()\n",
    "print(notes)"
   ]
  },
  {
   "cell_type": "markdown",
   "metadata": {},
   "source": [
    "### Trouver le minimum et le maximum d'une liste avec les fonctions min et max"
   ]
  },
  {
   "cell_type": "code",
   "execution_count": 21,
   "metadata": {},
   "outputs": [
    {
     "name": "stdout",
     "output_type": "stream",
     "text": [
      "minimum 7\n",
      "maximum 19\n"
     ]
    }
   ],
   "source": [
    "notes = [11, 15, 16, 7, 19, 17]\n",
    "print(\"minimum\",min(notes))\n",
    "print(\"maximum\",max(notes))"
   ]
  },
  {
   "cell_type": "markdown",
   "metadata": {},
   "source": [
    "### Inverser les éléments d'une liste avec la fonction reverse"
   ]
  },
  {
   "cell_type": "code",
   "execution_count": 22,
   "metadata": {},
   "outputs": [
    {
     "name": "stdout",
     "output_type": "stream",
     "text": [
      "['Dimanche', 'Samedi', 'Vendredi', 'Jeudi', 'Mercredi', 'Mardi', 'Lundi']\n"
     ]
    }
   ],
   "source": [
    "semaine = [\"Lundi\", \"Mardi\", \"Mercredi\", \"Jeudi\", \"Vendredi\", \"Samedi\", \"Dimanche\"]\n",
    "semaine.reverse()\n",
    "print(semaine)"
   ]
  },
  {
   "cell_type": "markdown",
   "metadata": {},
   "source": [
    "### Compter le nombre d'occurrences d'une valeur avec la fonction count"
   ]
  },
  {
   "cell_type": "code",
   "execution_count": 24,
   "metadata": {},
   "outputs": [
    {
     "name": "stdout",
     "output_type": "stream",
     "text": [
      "nbre_de_a : 3\n",
      "nbre_de_c : 2\n"
     ]
    }
   ],
   "source": [
    "liste = [\"a\",\"a\",\"a\",\"b\",\"c\",\"c\"]\n",
    "nbre_de_a=liste.count(\"a\")\n",
    "nbre_de_c=liste.count(\"c\")\n",
    "print(\"nbre_de_a :\",nbre_de_a)\n",
    "print(\"nbre_de_c :\",nbre_de_c)\n"
   ]
  },
  {
   "cell_type": "markdown",
   "metadata": {},
   "source": [
    "### Connaitre l'indice et son élément"
   ]
  },
  {
   "cell_type": "code",
   "execution_count": 30,
   "metadata": {},
   "outputs": [
    {
     "name": "stdout",
     "output_type": "stream",
     "text": [
      "0 Lundi\n",
      "1 Mardi\n",
      "2 Mercredi\n",
      "3 Jeudi\n",
      "4 Vendredi\n"
     ]
    }
   ],
   "source": [
    "liste = [ \"Lundi\", \"Mardi\", \"Mercredi\", \"Jeudi\", \"Vendredi\" ]\n",
    "\n",
    "for i, c in enumerate(liste):\n",
    "    print(i,c)\n"
   ]
  },
  {
   "cell_type": "markdown",
   "metadata": {},
   "source": [
    "## -------------------------------------------------------------------------------------------------------------------------------\n",
    "## Méthodes liées aux chaines de caractère\n",
    "## -------------------------------------------------------------------------------------------------------------------------------"
   ]
  },
  {
   "cell_type": "markdown",
   "metadata": {},
   "source": [
    "### Créer une liste de mots d’un texte avec split\n"
   ]
  },
  {
   "cell_type": "code",
   "execution_count": 35,
   "metadata": {},
   "outputs": [
    {
     "name": "stdout",
     "output_type": "stream",
     "text": [
      "['ab', 'cd', 'e/fg', 'h', 'ij kl']\n"
     ]
    }
   ],
   "source": [
    "print(\"ab-cd-e/fg-h-ij kl\".split(\"-\"))"
   ]
  },
  {
   "cell_type": "code",
   "execution_count": 36,
   "metadata": {},
   "outputs": [
    {
     "name": "stdout",
     "output_type": "stream",
     "text": [
      "['Deux mots', ' un-autre-mot ', ' Unmot']\n"
     ]
    }
   ],
   "source": [
    "print(\"Deux mots, un-autre-mot , Unmot\".split(\",\"))"
   ]
  },
  {
   "cell_type": "code",
   "execution_count": 37,
   "metadata": {},
   "outputs": [
    {
     "name": "stdout",
     "output_type": "stream",
     "text": [
      "['Deux', 'mots,', 'un-autre-mot', ',', 'Unmot']\n"
     ]
    }
   ],
   "source": [
    "print(\"Deux mots, un-autre-mot , Unmot\".split())"
   ]
  },
  {
   "cell_type": "markdown",
   "metadata": {},
   "source": [
    "### Créer un texte à partir d'une liste de mots avec join\n"
   ]
  },
  {
   "cell_type": "code",
   "execution_count": 42,
   "metadata": {},
   "outputs": [
    {
     "name": "stdout",
     "output_type": "stream",
     "text": [
      "22-29-35-44-56\n",
      "22.29.35.44.56\n"
     ]
    }
   ],
   "source": [
    "liste = [ \"22\", \"29\", \"35\", \"44\", \"56\" ]\n",
    "print(\"-\".join(liste))\n",
    "print(\".\".join(liste))\n"
   ]
  },
  {
   "cell_type": "code",
   "execution_count": null,
   "metadata": {},
   "outputs": [],
   "source": []
  }
 ],
 "metadata": {
  "kernelspec": {
   "display_name": "Python 3",
   "language": "python",
   "name": "python3"
  },
  "language_info": {
   "codemirror_mode": {
    "name": "ipython",
    "version": 3
   },
   "file_extension": ".py",
   "mimetype": "text/x-python",
   "name": "python",
   "nbconvert_exporter": "python",
   "pygments_lexer": "ipython3",
   "version": "3.7.3"
  }
 },
 "nbformat": 4,
 "nbformat_minor": 2
}
