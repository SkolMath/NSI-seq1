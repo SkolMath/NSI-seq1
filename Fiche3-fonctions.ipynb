{
 "cells": [
  {
   "cell_type": "markdown",
   "metadata": {},
   "source": [
    "# Fonction sans paramètre"
   ]
  },
  {
   "cell_type": "markdown",
   "metadata": {},
   "source": [
    "### Exemple "
   ]
  },
  {
   "cell_type": "code",
   "execution_count": 2,
   "metadata": {},
   "outputs": [],
   "source": [
    "# Fonction pour dire \"bonjour ! ça va ?\" en breton\n",
    "\n",
    "def salut_bzh():\n",
    "  return print(\"Demat! Mont a ra ?\")"
   ]
  },
  {
   "cell_type": "code",
   "execution_count": 3,
   "metadata": {},
   "outputs": [
    {
     "name": "stdout",
     "output_type": "stream",
     "text": [
      "Demat! Mont a ra ?\n"
     ]
    }
   ],
   "source": [
    "# Appel de la fonction\n",
    "\n",
    "salut_bzh()"
   ]
  },
  {
   "cell_type": "markdown",
   "metadata": {},
   "source": [
    "### Exemple de fonction qui appelle une autre fonction"
   ]
  },
  {
   "cell_type": "code",
   "execution_count": 8,
   "metadata": {},
   "outputs": [],
   "source": [
    "# Fonction pour dire \"bonjour ! ça va ?\" en breton\n",
    "\n",
    "def salut_bzh():\n",
    "  return print(\"Demat! Mont a ra ?\")\n",
    "\n",
    "# Fonction pour le dire 2 fois\n",
    "\n",
    "def dire_deux_fois():\n",
    "    for i in range(2):\n",
    "        salut_bzh()"
   ]
  },
  {
   "cell_type": "code",
   "execution_count": 9,
   "metadata": {},
   "outputs": [
    {
     "name": "stdout",
     "output_type": "stream",
     "text": [
      "Demat! Mont a ra ?\n",
      "Demat! Mont a ra ?\n"
     ]
    }
   ],
   "source": [
    "# Appel de la fonction\n",
    "\n",
    "dire_deux_fois()"
   ]
  },
  {
   "cell_type": "markdown",
   "metadata": {},
   "source": [
    "# Fonction avec paramètre"
   ]
  },
  {
   "cell_type": "markdown",
   "metadata": {},
   "source": [
    "### Exemple"
   ]
  },
  {
   "cell_type": "code",
   "execution_count": 3,
   "metadata": {},
   "outputs": [],
   "source": [
    "# Fonction pour calculer le prix de vente TTC\n",
    "\n",
    "def prix_de_vente_ttc(montant):\n",
    "    prix_ttc=montant*1.2\n",
    "    return print(\"le prix TTC est de :\",prix_ttc,\"€\")"
   ]
  },
  {
   "cell_type": "code",
   "execution_count": 4,
   "metadata": {},
   "outputs": [
    {
     "name": "stdout",
     "output_type": "stream",
     "text": [
      "le prix TTC est de : 120.0 €\n"
     ]
    }
   ],
   "source": [
    "# Appel de la fonction pour un prix de vente HT de 100€\n",
    "\n",
    "prix_de_vente_ttc(100)"
   ]
  },
  {
   "cell_type": "markdown",
   "metadata": {},
   "source": [
    "### Exemple avec utilisation d’une variable comme argument"
   ]
  },
  {
   "cell_type": "code",
   "execution_count": 5,
   "metadata": {},
   "outputs": [],
   "source": [
    "# Fonction pour calculer le prix de vente TTC\n",
    "\n",
    "def prix_de_vente_ttc(montant):\n",
    "    prix_ttc=montant*1.2\n",
    "    return print(\"le prix TTC est de :\",prix_ttc,\"€\")"
   ]
  },
  {
   "cell_type": "code",
   "execution_count": 6,
   "metadata": {},
   "outputs": [
    {
     "name": "stdout",
     "output_type": "stream",
     "text": [
      "le prix TTC est de : 120.0 €\n"
     ]
    }
   ],
   "source": [
    "# Appel de la fonction pour un prix de vente HT de 100€\n",
    "\n",
    "prix_hors_taxe=100\n",
    "prix_de_vente_ttc(prix_hors_taxe)"
   ]
  },
  {
   "cell_type": "markdown",
   "metadata": {},
   "source": [
    "# Fonction avec plusieurs paramètres"
   ]
  },
  {
   "cell_type": "markdown",
   "metadata": {},
   "source": [
    "### Exemple"
   ]
  },
  {
   "cell_type": "code",
   "execution_count": 10,
   "metadata": {},
   "outputs": [],
   "source": [
    "# Fonction pour calculer le prix de vente TTC\n",
    "\n",
    "def prix_de_vente_ttc(montant, tva):\n",
    "    prix_ttc=montant*(1+tva/100)\n",
    "    return print(\"le prix TTC est de :\",prix_ttc)"
   ]
  },
  {
   "cell_type": "code",
   "execution_count": 11,
   "metadata": {},
   "outputs": [
    {
     "name": "stdout",
     "output_type": "stream",
     "text": [
      "le prix TTC est de : 160.5\n",
      "le prix TTC est de : 240.0\n"
     ]
    }
   ],
   "source": [
    "# 1er appel de la fonction\n",
    "# pour un prix de vente HT de 150€ et de tva à 7%\n",
    "\n",
    "prix_hors_taxe=150\n",
    "prix_de_vente_ttc(prix_hors_taxe,7)\n",
    "\n",
    "# 2eme appel de la fonction\n",
    "# pour un prix de vente HT de 200€ et de tva à 20%\n",
    "\n",
    "prix_hors_taxe=200\n",
    "prix_de_vente_ttc(prix_hors_taxe,20)"
   ]
  },
  {
   "cell_type": "markdown",
   "metadata": {},
   "source": [
    "### Exemple avec utilisation de valeur par défaut pour certains paramètres"
   ]
  },
  {
   "cell_type": "code",
   "execution_count": 14,
   "metadata": {},
   "outputs": [],
   "source": [
    "# Fonction pour calculer le prix de vente TTC\n",
    "\n",
    "def prix_de_vente_ttc(montant, tva=20):\n",
    "    prix_ttc=montant*(1+tva/100)\n",
    "    return print(\"le prix TTC est de :\",prix_ttc)"
   ]
  },
  {
   "cell_type": "code",
   "execution_count": 15,
   "metadata": {},
   "outputs": [
    {
     "name": "stdout",
     "output_type": "stream",
     "text": [
      "le prix TTC est de : 160.5\n",
      "le prix TTC est de : 240.0\n"
     ]
    }
   ],
   "source": [
    "# 1er appel de la fonction\n",
    "# pour un prix de vente HT de 150€ et de tva à 7%\n",
    "\n",
    "prix_hors_taxe=150\n",
    "prix_de_vente_ttc(prix_hors_taxe,7)\n",
    "\n",
    "# 2eme appel de la fonction\n",
    "# pour un prix de vente HT de 200€ et de tva à 20%\n",
    "\n",
    "prix_hors_taxe=200\n",
    "prix_de_vente_ttc(prix_hors_taxe)"
   ]
  },
  {
   "cell_type": "code",
   "execution_count": null,
   "metadata": {},
   "outputs": [],
   "source": []
  }
 ],
 "metadata": {
  "kernelspec": {
   "display_name": "Python 3",
   "language": "python",
   "name": "python3"
  },
  "language_info": {
   "codemirror_mode": {
    "name": "ipython",
    "version": 3
   },
   "file_extension": ".py",
   "mimetype": "text/x-python",
   "name": "python",
   "nbconvert_exporter": "python",
   "pygments_lexer": "ipython3",
   "version": "3.7.3"
  }
 },
 "nbformat": 4,
 "nbformat_minor": 2
}
