{
 "cells": [
  {
   "cell_type": "markdown",
   "metadata": {},
   "source": [
    "# PYTHON : LES DICTIONNAIRES"
   ]
  },
  {
   "cell_type": "markdown",
   "metadata": {},
   "source": [
    "corrections des \"A faire vous même\"\n",
    "\n",
    "https://pixees.fr/informatiquelycee/n_site/nsi_prem_dico.html\n"
   ]
  },
  {
   "cell_type": "markdown",
   "metadata": {},
   "source": [
    "### A faire vous même 1"
   ]
  },
  {
   "cell_type": "code",
   "execution_count": null,
   "metadata": {},
   "outputs": [],
   "source": [
    "mon_dico = {\"nom\": \"Durand\", \"prenom\": \"Christophe\", \"date de naissance\": \"29/02/1981\"}"
   ]
  },
  {
   "cell_type": "code",
   "execution_count": null,
   "metadata": {},
   "outputs": [],
   "source": [
    "mon_dico"
   ]
  },
  {
   "cell_type": "markdown",
   "metadata": {},
   "source": [
    "### A faire vous même 2"
   ]
  },
  {
   "cell_type": "code",
   "execution_count": null,
   "metadata": {},
   "outputs": [],
   "source": [
    "mon_dico = {\"nom\": \"Durand\", \"prenom\": \"Christophe\", \"date de naissance\": \"29/02/1981\"}\n",
    "print(f'Bonjour je suis {mon_dico[\"prenom\"]} {mon_dico[\"nom\"]}, je suis né le {mon_dico[\"date de naissance\"]}')"
   ]
  },
  {
   "cell_type": "markdown",
   "metadata": {},
   "source": [
    "### A faire vous même 3"
   ]
  },
  {
   "cell_type": "code",
   "execution_count": null,
   "metadata": {},
   "outputs": [],
   "source": [
    "mon_dico = {\"nom\": \"Durand\", \"prenom\": \"Christophe\", \"date de naissance\": \"29/02/1981\"}\n",
    "print(f'Bonjour je suis {mon_dico[\"prenom\"]} {mon_dico[\"nom\"]}, je suis né le {mon_dico[\"date de naissance\"]}')\n",
    "mon_dico['lieu naissance'] = \"Bonneville\"\n",
    "print (f'à {mon_dico[\"lieu naissance\"]}')"
   ]
  },
  {
   "cell_type": "markdown",
   "metadata": {},
   "source": [
    "### A faire vous même 4"
   ]
  },
  {
   "cell_type": "code",
   "execution_count": null,
   "metadata": {},
   "outputs": [],
   "source": [
    "mes_fruits = {\"poire\": 3, \"pomme\": 4, \"orange\": 2}\n",
    "del mes_fruits[\"pomme\"]\n",
    "\n",
    "mes_fruits"
   ]
  },
  {
   "cell_type": "markdown",
   "metadata": {},
   "source": [
    "### A faire vous même 5"
   ]
  },
  {
   "cell_type": "code",
   "execution_count": null,
   "metadata": {},
   "outputs": [],
   "source": [
    "mes_fruits = {\"poire\": 3, \"pomme\": 4, \"orange\": 2}\n",
    "mes_fruits[\"pomme\"] = mes_fruits[\"pomme\"] - 1\n",
    "\n",
    "mes_fruits"
   ]
  },
  {
   "cell_type": "markdown",
   "metadata": {},
   "source": [
    "### A faire vous même 6"
   ]
  },
  {
   "cell_type": "code",
   "execution_count": null,
   "metadata": {},
   "outputs": [],
   "source": [
    "mes_fruits = {\"poire\": 3, \"pomme\": 4, \"orange\": 2}\n",
    "print(\"liste des fruits :\")\n",
    "for fruit in mes_fruits.keys():\n",
    "\tprint(fruit)"
   ]
  },
  {
   "cell_type": "markdown",
   "metadata": {},
   "source": [
    "### A faire vous même 7"
   ]
  },
  {
   "cell_type": "code",
   "execution_count": null,
   "metadata": {},
   "outputs": [],
   "source": [
    "mes_fruits = {\"poire\": 3, \"pomme\": 4, \"orange\": 2}\n",
    "for qte in mes_fruits.values():\n",
    "\tprint(qte)"
   ]
  },
  {
   "cell_type": "markdown",
   "metadata": {},
   "source": [
    "### A faire vous même 8"
   ]
  },
  {
   "cell_type": "code",
   "execution_count": null,
   "metadata": {},
   "outputs": [],
   "source": [
    "mes_fruits = {\"poire\": 3, \"pomme\": 4, \"orange\": 2}\n",
    "print (\"Stock de fruits :\")\n",
    "for fruit, qte in mes_fruits.items():\n",
    "\tprint (f\"{fruit} : {qte}\")"
   ]
  }
 ],
 "metadata": {
  "kernelspec": {
   "display_name": "Python 3",
   "language": "python",
   "name": "python3"
  },
  "language_info": {
   "codemirror_mode": {
    "name": "ipython",
    "version": 3
   },
   "file_extension": ".py",
   "mimetype": "text/x-python",
   "name": "python",
   "nbconvert_exporter": "python",
   "pygments_lexer": "ipython3",
   "version": "3.7.3"
  }
 },
 "nbformat": 4,
 "nbformat_minor": 2
}
