{
 "cells": [
  {
   "cell_type": "markdown",
   "metadata": {},
   "source": [
    "# •\tInstruction conditionnelle et opérateur « ET »"
   ]
  },
  {
   "cell_type": "code",
   "execution_count": 1,
   "metadata": {},
   "outputs": [],
   "source": [
    "# Fonction qui donne l’autorisation au visiteur \n",
    "# d'accéder ou pas à toutes les attractions\n",
    "\n",
    "def autorisation(age, taille):\n",
    "    if age > 12 and taille > 1.3:\n",
    "        print(\"Vous pouvez accéder à toutes les attractions du parc\")\n",
    "    else:\n",
    "        print(\"Vous ne pouvez pas accéder à toutes les attractions du parc\")\n"
   ]
  },
  {
   "cell_type": "code",
   "execution_count": 2,
   "metadata": {},
   "outputs": [
    {
     "name": "stdout",
     "output_type": "stream",
     "text": [
      "Vous ne pouvez pas accéder à toutes les attractions du parc\n",
      "Vous ne pouvez pas accéder à toutes les attractions du parc\n",
      "Vous pouvez accéder à toutes les attractions du parc\n"
     ]
    }
   ],
   "source": [
    "# 1er appel de la fonction\n",
    "# avec age = 10 et taille = 1.4\n",
    "autorisation(10, 1.4)\n",
    "\n",
    "# 2eme appel de la fonction\n",
    "# avec age = 13 et taille = 1.1\n",
    "autorisation(13, 1.1)\n",
    "\n",
    "# 3eme appel de la fonction\n",
    "# avec age = 14 et taille = 1.4\n",
    "autorisation(14, 1.4)"
   ]
  },
  {
   "cell_type": "markdown",
   "metadata": {},
   "source": [
    "# •\tInstruction conditionnelle et opérateur « OU »"
   ]
  },
  {
   "cell_type": "code",
   "execution_count": 4,
   "metadata": {},
   "outputs": [],
   "source": [
    "# Fonction qui donne le tarif de l'entrée au visiteur \n",
    "\n",
    "def prix(age, taille):\n",
    "    if age > 12 or taille > 1.3:\n",
    "        print(\"le tarif pour le parc est de 15 € \")\n",
    "    else:\n",
    "        print(\"le tarif pour le parc est de 8 € \")\n"
   ]
  },
  {
   "cell_type": "code",
   "execution_count": 6,
   "metadata": {},
   "outputs": [
    {
     "name": "stdout",
     "output_type": "stream",
     "text": [
      "le tarif pour le parc est de 8 € \n",
      "le tarif pour le parc est de 15 € \n",
      "le tarif pour le parc est de 15 € \n"
     ]
    }
   ],
   "source": [
    "# 1er appel de la fonction\n",
    "# avec age = 10 et taille = 1.1\n",
    "prix(10, 1.1)\n",
    "\n",
    "# 2eme appel de la fonction\n",
    "# avec age = 13 et taille = 1.1\n",
    "prix(13, 1.1)\n",
    "\n",
    "# 3eme appel de la fonction\n",
    "# avec age = 14 et taille = 1.4\n",
    "prix(14, 1.4)"
   ]
  },
  {
   "cell_type": "code",
   "execution_count": null,
   "metadata": {},
   "outputs": [],
   "source": []
  }
 ],
 "metadata": {
  "kernelspec": {
   "display_name": "Python 3",
   "language": "python",
   "name": "python3"
  },
  "language_info": {
   "codemirror_mode": {
    "name": "ipython",
    "version": 3
   },
   "file_extension": ".py",
   "mimetype": "text/x-python",
   "name": "python",
   "nbconvert_exporter": "python",
   "pygments_lexer": "ipython3",
   "version": "3.7.3"
  }
 },
 "nbformat": 4,
 "nbformat_minor": 2
}
