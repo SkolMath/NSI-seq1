{
 "cells": [
  {
   "cell_type": "markdown",
   "metadata": {},
   "source": [
    "# PYTHON : LES SEQUENCES - LISTES (ou TABLEAUX) & TUPLES"
   ]
  },
  {
   "cell_type": "markdown",
   "metadata": {},
   "source": [
    "## --> Les listes"
   ]
  },
  {
   "cell_type": "markdown",
   "metadata": {},
   "source": [
    "### Créer une liste"
   ]
  },
  {
   "cell_type": "code",
   "execution_count": 23,
   "metadata": {},
   "outputs": [],
   "source": [
    "listeVide = [] # Création d’une liste vide\n",
    "L = [ 5, \"phare\", 2.5, \"hermine\"] # Création d’une liste de 4 données"
   ]
  },
  {
   "cell_type": "markdown",
   "metadata": {},
   "source": [
    "### Afficher une liste"
   ]
  },
  {
   "cell_type": "code",
   "execution_count": 24,
   "metadata": {},
   "outputs": [
    {
     "name": "stdout",
     "output_type": "stream",
     "text": [
      "listeVide []\n",
      "liste L [5, 'phare', 2.5, 'hermine']\n"
     ]
    }
   ],
   "source": [
    "print(\"listeVide\",listeVide)\n",
    "print(\"liste L\",L)"
   ]
  },
  {
   "cell_type": "markdown",
   "metadata": {},
   "source": [
    "### Ajouter un élément"
   ]
  },
  {
   "cell_type": "code",
   "execution_count": 25,
   "metadata": {},
   "outputs": [
    {
     "name": "stdout",
     "output_type": "stream",
     "text": [
      "[5, 'phare', 2.5, 'hermine', 'mer']\n"
     ]
    }
   ],
   "source": [
    "L.append(\"mer\") # Ajout de la chaîne \"mer\" à la fin de la liste\n",
    "print(L)"
   ]
  },
  {
   "cell_type": "markdown",
   "metadata": {},
   "source": [
    "### Supprimer un élément"
   ]
  },
  {
   "cell_type": "code",
   "execution_count": 26,
   "metadata": {},
   "outputs": [
    {
     "name": "stdout",
     "output_type": "stream",
     "text": [
      "[5, 'phare', 2.5, 'mer']\n"
     ]
    }
   ],
   "source": [
    "L.remove(\"hermine\") # Suppression du premier élément \"hermine\"\n",
    "print(L)"
   ]
  },
  {
   "cell_type": "markdown",
   "metadata": {},
   "source": [
    "### Accès via des index"
   ]
  },
  {
   "cell_type": "code",
   "execution_count": 27,
   "metadata": {},
   "outputs": [
    {
     "name": "stdout",
     "output_type": "stream",
     "text": [
      "5\n",
      "phare\n",
      "2.5\n",
      "mer\n",
      "[5, 'brume', 2.5, 'mer']\n"
     ]
    }
   ],
   "source": [
    "print (L[0]) # affiche 5\n",
    "print (L[1]) # affiche 'phare'\n",
    "print (L[2]) # affiche 2.5\n",
    "print (L[3]) # affiche 'mer'\n",
    "(L[1]) = \"brume\" # remplace \"phare\" par \"brume\"\n",
    "print(L)"
   ]
  },
  {
   "cell_type": "markdown",
   "metadata": {},
   "source": [
    "### Accès à partir de la fin via des index négatifs"
   ]
  },
  {
   "cell_type": "code",
   "execution_count": 28,
   "metadata": {},
   "outputs": [
    {
     "name": "stdout",
     "output_type": "stream",
     "text": [
      "mer\n",
      "2.5\n",
      "brume\n"
     ]
    }
   ],
   "source": [
    "print (L[-1]) # affiche \"mer\"\n",
    "print (L[-2]) # affiche \"2.5\"\n",
    "print (L[-3]) # affiche \"phare\""
   ]
  },
  {
   "cell_type": "markdown",
   "metadata": {},
   "source": [
    "### Sélectionner une partie d’une liste"
   ]
  },
  {
   "cell_type": "code",
   "execution_count": 34,
   "metadata": {},
   "outputs": [
    {
     "name": "stdout",
     "output_type": "stream",
     "text": [
      "['brume', 2.5]\n",
      "[5, 'brume', 2.5]\n",
      "[2.5, 'mer']\n"
     ]
    }
   ],
   "source": [
    "# les éléments indexés de 1 à 2 (donc 'brume', 2.5)\n",
    "print (L[1:3]) \n",
    "# tous les éléments jusqu'à L[2] (donc 5, 'brume', 2.5)\n",
    "print (L[:3]) \n",
    "# tous les éléments à partir de L[3] (donc 2.5, 'mer')\n",
    "print (L[2:]) "
   ]
  },
  {
   "cell_type": "code",
   "execution_count": 35,
   "metadata": {},
   "outputs": [
    {
     "name": "stdout",
     "output_type": "stream",
     "text": [
      "L= [5, 'brume', 2.5, 'mer']\n"
     ]
    }
   ],
   "source": [
    "L[1:4].remove(2.5)\n",
    "print(\"L=\",L)"
   ]
  },
  {
   "cell_type": "markdown",
   "metadata": {},
   "source": [
    "### Vérifier si un élément est dans une liste"
   ]
  },
  {
   "cell_type": "code",
   "execution_count": 37,
   "metadata": {},
   "outputs": [
    {
     "name": "stdout",
     "output_type": "stream",
     "text": [
      "10 est dans la liste [10, 20, 30, 40, 50, 60, 70]\n"
     ]
    }
   ],
   "source": [
    "L1 = [ 10 , 20 , 30 , 40 , 50 , 60 , 70 ]\n",
    "if 10 in L1 :\n",
    "    print (10, \"est dans la liste\", L1)"
   ]
  },
  {
   "cell_type": "markdown",
   "metadata": {},
   "source": [
    "### Index : connaître la position d’un élément"
   ]
  },
  {
   "cell_type": "code",
   "execution_count": 36,
   "metadata": {},
   "outputs": [
    {
     "name": "stdout",
     "output_type": "stream",
     "text": [
      "30 est à l'index 2\n"
     ]
    }
   ],
   "source": [
    "L1 = [ 10 , 20 , 30 , 40 , 50 , 60 , 70 ]\n",
    "print (30 , \"est à l'index\" , L1.index(30))"
   ]
  },
  {
   "cell_type": "markdown",
   "metadata": {},
   "source": [
    "### Boucle for : parcourir une liste"
   ]
  },
  {
   "cell_type": "code",
   "execution_count": 43,
   "metadata": {},
   "outputs": [
    {
     "name": "stdout",
     "output_type": "stream",
     "text": [
      "5\n",
      "phare\n",
      "2.5\n",
      "hermine\n"
     ]
    }
   ],
   "source": [
    "L = [ 5, \"phare\", 2.5, \"hermine\"]\n",
    "\n",
    "for item in L :\n",
    "    print (item)"
   ]
  },
  {
   "cell_type": "code",
   "execution_count": 45,
   "metadata": {},
   "outputs": [
    {
     "name": "stdout",
     "output_type": "stream",
     "text": [
      "4\n",
      "5\n",
      "phare\n",
      "2.5\n",
      "hermine\n"
     ]
    }
   ],
   "source": [
    "longueur=len(L)\n",
    "print(longueur)\n",
    "\n",
    "for i in range(longueur):\n",
    "    print (L[i])"
   ]
  },
  {
   "cell_type": "markdown",
   "metadata": {},
   "source": [
    "### Concaténer de 2 listes avec +"
   ]
  },
  {
   "cell_type": "code",
   "execution_count": 51,
   "metadata": {},
   "outputs": [
    {
     "name": "stdout",
     "output_type": "stream",
     "text": [
      "[12, 15, 16, 11, 19, 17, 13, 20, 32]\n",
      "[12, 15, 16, 11, 19, 17]\n",
      "[13, 20, 32]\n"
     ]
    }
   ],
   "source": [
    "L1 = [12, 15, 16, 11, 19, 17]\n",
    "L2 = [13, 20, 32]\n",
    "L3 = L1+L2\n",
    "print(L3)\n",
    "print(L1)\n",
    "print(L2)\n"
   ]
  },
  {
   "cell_type": "markdown",
   "metadata": {},
   "source": [
    "## --> les Tuples"
   ]
  },
  {
   "cell_type": "code",
   "execution_count": 53,
   "metadata": {},
   "outputs": [
    {
     "name": "stdout",
     "output_type": "stream",
     "text": [
      "type : <class 'tuple'>\n",
      "Rennes\n"
     ]
    }
   ],
   "source": [
    "mon_tuple = (35000, \"Rennes\", \"Bretagne\")\n",
    "print(\"type :\",type(mon_tuple))\n",
    "print(mon_tuple[1])"
   ]
  },
  {
   "cell_type": "markdown",
   "metadata": {},
   "source": [
    "### Affectation"
   ]
  },
  {
   "cell_type": "code",
   "execution_count": 54,
   "metadata": {},
   "outputs": [
    {
     "name": "stdout",
     "output_type": "stream",
     "text": [
      "29000\n",
      "Brest\n"
     ]
    }
   ],
   "source": [
    "code_postal, ville = 29000, \"Brest\"\n",
    "print(code_postal)\n",
    "print(ville)"
   ]
  },
  {
   "cell_type": "markdown",
   "metadata": {},
   "source": [
    "### Appel d'une fonction"
   ]
  },
  {
   "cell_type": "code",
   "execution_count": 55,
   "metadata": {},
   "outputs": [
    {
     "data": {
      "text/plain": [
       "(56000, 'Vannes')"
      ]
     },
     "execution_count": 55,
     "metadata": {},
     "output_type": "execute_result"
    }
   ],
   "source": [
    "def ta_localisation():\n",
    "    return 56000, \"Vannes\"\n",
    "\n",
    "ta_localisation()"
   ]
  }
 ],
 "metadata": {
  "kernelspec": {
   "display_name": "Python 3",
   "language": "python",
   "name": "python3"
  },
  "language_info": {
   "codemirror_mode": {
    "name": "ipython",
    "version": 3
   },
   "file_extension": ".py",
   "mimetype": "text/x-python",
   "name": "python",
   "nbconvert_exporter": "python",
   "pygments_lexer": "ipython3",
   "version": "3.7.3"
  }
 },
 "nbformat": 4,
 "nbformat_minor": 2
}
